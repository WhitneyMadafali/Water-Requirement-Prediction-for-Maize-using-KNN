{
  "nbformat": 4,
  "nbformat_minor": 0,
  "metadata": {
    "colab": {
      "provenance": [],
      "authorship_tag": "ABX9TyMdEnsm5ZKWOjioHrl3aDFL",
      "include_colab_link": true
    },
    "kernelspec": {
      "name": "python3",
      "display_name": "Python 3"
    },
    "language_info": {
      "name": "python"
    }
  },
  "cells": [
    {
      "cell_type": "markdown",
      "metadata": {
        "id": "view-in-github",
        "colab_type": "text"
      },
      "source": [
        "<a href=\"https://colab.research.google.com/github/WhitneyMadafali/Water-Requirement-Prediction-for-Maize-using-KNN/blob/logistic/LogisticRegression.ipynb\" target=\"_parent\"><img src=\"https://colab.research.google.com/assets/colab-badge.svg\" alt=\"Open In Colab\"/></a>"
      ]
    },
    {
      "cell_type": "code",
      "execution_count": 9,
      "metadata": {
        "id": "C2u77ZzYxWwQ"
      },
      "outputs": [],
      "source": [
        "import pandas as pd\n",
        "import numpy as np\n",
        "import matplotlib.pyplot as plt\n",
        "import seaborn as sns\n",
        "from seaborn import load_dataset\n",
        "import plotly.express as px\n",
        "\n"
      ]
    },
    {
      "cell_type": "code",
      "source": [
        "from google.colab import files\n",
        "uploaded = files.upload()"
      ],
      "metadata": {
        "colab": {
          "base_uri": "https://localhost:8080/",
          "height": 74
        },
        "id": "V3KeLIPSyE8T",
        "outputId": "52afe131-e507-4a0e-84ff-dc217e44bb64"
      },
      "execution_count": 2,
      "outputs": [
        {
          "output_type": "display_data",
          "data": {
            "text/plain": [
              "<IPython.core.display.HTML object>"
            ],
            "text/html": [
              "\n",
              "     <input type=\"file\" id=\"files-5b7c1d20-d5c9-4548-8be4-b4fe606b1cf2\" name=\"files[]\" multiple disabled\n",
              "        style=\"border:none\" />\n",
              "     <output id=\"result-5b7c1d20-d5c9-4548-8be4-b4fe606b1cf2\">\n",
              "      Upload widget is only available when the cell has been executed in the\n",
              "      current browser session. Please rerun this cell to enable.\n",
              "      </output>\n",
              "      <script>// Copyright 2017 Google LLC\n",
              "//\n",
              "// Licensed under the Apache License, Version 2.0 (the \"License\");\n",
              "// you may not use this file except in compliance with the License.\n",
              "// You may obtain a copy of the License at\n",
              "//\n",
              "//      http://www.apache.org/licenses/LICENSE-2.0\n",
              "//\n",
              "// Unless required by applicable law or agreed to in writing, software\n",
              "// distributed under the License is distributed on an \"AS IS\" BASIS,\n",
              "// WITHOUT WARRANTIES OR CONDITIONS OF ANY KIND, either express or implied.\n",
              "// See the License for the specific language governing permissions and\n",
              "// limitations under the License.\n",
              "\n",
              "/**\n",
              " * @fileoverview Helpers for google.colab Python module.\n",
              " */\n",
              "(function(scope) {\n",
              "function span(text, styleAttributes = {}) {\n",
              "  const element = document.createElement('span');\n",
              "  element.textContent = text;\n",
              "  for (const key of Object.keys(styleAttributes)) {\n",
              "    element.style[key] = styleAttributes[key];\n",
              "  }\n",
              "  return element;\n",
              "}\n",
              "\n",
              "// Max number of bytes which will be uploaded at a time.\n",
              "const MAX_PAYLOAD_SIZE = 100 * 1024;\n",
              "\n",
              "function _uploadFiles(inputId, outputId) {\n",
              "  const steps = uploadFilesStep(inputId, outputId);\n",
              "  const outputElement = document.getElementById(outputId);\n",
              "  // Cache steps on the outputElement to make it available for the next call\n",
              "  // to uploadFilesContinue from Python.\n",
              "  outputElement.steps = steps;\n",
              "\n",
              "  return _uploadFilesContinue(outputId);\n",
              "}\n",
              "\n",
              "// This is roughly an async generator (not supported in the browser yet),\n",
              "// where there are multiple asynchronous steps and the Python side is going\n",
              "// to poll for completion of each step.\n",
              "// This uses a Promise to block the python side on completion of each step,\n",
              "// then passes the result of the previous step as the input to the next step.\n",
              "function _uploadFilesContinue(outputId) {\n",
              "  const outputElement = document.getElementById(outputId);\n",
              "  const steps = outputElement.steps;\n",
              "\n",
              "  const next = steps.next(outputElement.lastPromiseValue);\n",
              "  return Promise.resolve(next.value.promise).then((value) => {\n",
              "    // Cache the last promise value to make it available to the next\n",
              "    // step of the generator.\n",
              "    outputElement.lastPromiseValue = value;\n",
              "    return next.value.response;\n",
              "  });\n",
              "}\n",
              "\n",
              "/**\n",
              " * Generator function which is called between each async step of the upload\n",
              " * process.\n",
              " * @param {string} inputId Element ID of the input file picker element.\n",
              " * @param {string} outputId Element ID of the output display.\n",
              " * @return {!Iterable<!Object>} Iterable of next steps.\n",
              " */\n",
              "function* uploadFilesStep(inputId, outputId) {\n",
              "  const inputElement = document.getElementById(inputId);\n",
              "  inputElement.disabled = false;\n",
              "\n",
              "  const outputElement = document.getElementById(outputId);\n",
              "  outputElement.innerHTML = '';\n",
              "\n",
              "  const pickedPromise = new Promise((resolve) => {\n",
              "    inputElement.addEventListener('change', (e) => {\n",
              "      resolve(e.target.files);\n",
              "    });\n",
              "  });\n",
              "\n",
              "  const cancel = document.createElement('button');\n",
              "  inputElement.parentElement.appendChild(cancel);\n",
              "  cancel.textContent = 'Cancel upload';\n",
              "  const cancelPromise = new Promise((resolve) => {\n",
              "    cancel.onclick = () => {\n",
              "      resolve(null);\n",
              "    };\n",
              "  });\n",
              "\n",
              "  // Wait for the user to pick the files.\n",
              "  const files = yield {\n",
              "    promise: Promise.race([pickedPromise, cancelPromise]),\n",
              "    response: {\n",
              "      action: 'starting',\n",
              "    }\n",
              "  };\n",
              "\n",
              "  cancel.remove();\n",
              "\n",
              "  // Disable the input element since further picks are not allowed.\n",
              "  inputElement.disabled = true;\n",
              "\n",
              "  if (!files) {\n",
              "    return {\n",
              "      response: {\n",
              "        action: 'complete',\n",
              "      }\n",
              "    };\n",
              "  }\n",
              "\n",
              "  for (const file of files) {\n",
              "    const li = document.createElement('li');\n",
              "    li.append(span(file.name, {fontWeight: 'bold'}));\n",
              "    li.append(span(\n",
              "        `(${file.type || 'n/a'}) - ${file.size} bytes, ` +\n",
              "        `last modified: ${\n",
              "            file.lastModifiedDate ? file.lastModifiedDate.toLocaleDateString() :\n",
              "                                    'n/a'} - `));\n",
              "    const percent = span('0% done');\n",
              "    li.appendChild(percent);\n",
              "\n",
              "    outputElement.appendChild(li);\n",
              "\n",
              "    const fileDataPromise = new Promise((resolve) => {\n",
              "      const reader = new FileReader();\n",
              "      reader.onload = (e) => {\n",
              "        resolve(e.target.result);\n",
              "      };\n",
              "      reader.readAsArrayBuffer(file);\n",
              "    });\n",
              "    // Wait for the data to be ready.\n",
              "    let fileData = yield {\n",
              "      promise: fileDataPromise,\n",
              "      response: {\n",
              "        action: 'continue',\n",
              "      }\n",
              "    };\n",
              "\n",
              "    // Use a chunked sending to avoid message size limits. See b/62115660.\n",
              "    let position = 0;\n",
              "    do {\n",
              "      const length = Math.min(fileData.byteLength - position, MAX_PAYLOAD_SIZE);\n",
              "      const chunk = new Uint8Array(fileData, position, length);\n",
              "      position += length;\n",
              "\n",
              "      const base64 = btoa(String.fromCharCode.apply(null, chunk));\n",
              "      yield {\n",
              "        response: {\n",
              "          action: 'append',\n",
              "          file: file.name,\n",
              "          data: base64,\n",
              "        },\n",
              "      };\n",
              "\n",
              "      let percentDone = fileData.byteLength === 0 ?\n",
              "          100 :\n",
              "          Math.round((position / fileData.byteLength) * 100);\n",
              "      percent.textContent = `${percentDone}% done`;\n",
              "\n",
              "    } while (position < fileData.byteLength);\n",
              "  }\n",
              "\n",
              "  // All done.\n",
              "  yield {\n",
              "    response: {\n",
              "      action: 'complete',\n",
              "    }\n",
              "  };\n",
              "}\n",
              "\n",
              "scope.google = scope.google || {};\n",
              "scope.google.colab = scope.google.colab || {};\n",
              "scope.google.colab._files = {\n",
              "  _uploadFiles,\n",
              "  _uploadFilesContinue,\n",
              "};\n",
              "})(self);\n",
              "</script> "
            ]
          },
          "metadata": {}
        },
        {
          "output_type": "stream",
          "name": "stdout",
          "text": [
            "Saving mydata.csv to mydata.csv\n"
          ]
        }
      ]
    },
    {
      "cell_type": "code",
      "source": [
        "df = pd.read_csv('mydata.csv')\n"
      ],
      "metadata": {
        "id": "vM2I59VuymRF"
      },
      "execution_count": 4,
      "outputs": []
    },
    {
      "cell_type": "code",
      "source": [
        "df"
      ],
      "metadata": {
        "colab": {
          "base_uri": "https://localhost:8080/",
          "height": 423
        },
        "id": "80md3q9WzBR6",
        "outputId": "9c09522d-04fe-4039-ee2c-3e1220e4f62a"
      },
      "execution_count": 5,
      "outputs": [
        {
          "output_type": "execute_result",
          "data": {
            "text/plain": [
              "     temperature   humidity        ph    rainfall  Irrigation\n",
              "0      22.613600  63.690706  5.749914   87.759539           0\n",
              "1      26.100184  71.574769  6.931757  102.266244           0\n",
              "2      23.558821  71.593514  6.657965   66.719955           0\n",
              "3      19.972160  57.682729  6.596061   60.651715           0\n",
              "4      18.478913  62.695039  5.970458   65.438354           0\n",
              "..           ...        ...       ...         ...         ...\n",
              "495    22.107190  78.583201  6.364730   74.941366           0\n",
              "496    23.038140  76.110215  6.913679   91.496975           1\n",
              "497    24.547953  75.397527  7.766260   63.880799           0\n",
              "498    23.738680  75.775038  7.556064   76.636692           0\n",
              "499    22.318719  83.861300  7.288377   65.357470           1\n",
              "\n",
              "[500 rows x 5 columns]"
            ],
            "text/html": [
              "\n",
              "  <div id=\"df-185707d1-e9bd-40ad-9f86-b48bfa7face1\">\n",
              "    <div class=\"colab-df-container\">\n",
              "      <div>\n",
              "<style scoped>\n",
              "    .dataframe tbody tr th:only-of-type {\n",
              "        vertical-align: middle;\n",
              "    }\n",
              "\n",
              "    .dataframe tbody tr th {\n",
              "        vertical-align: top;\n",
              "    }\n",
              "\n",
              "    .dataframe thead th {\n",
              "        text-align: right;\n",
              "    }\n",
              "</style>\n",
              "<table border=\"1\" class=\"dataframe\">\n",
              "  <thead>\n",
              "    <tr style=\"text-align: right;\">\n",
              "      <th></th>\n",
              "      <th>temperature</th>\n",
              "      <th>humidity</th>\n",
              "      <th>ph</th>\n",
              "      <th>rainfall</th>\n",
              "      <th>Irrigation</th>\n",
              "    </tr>\n",
              "  </thead>\n",
              "  <tbody>\n",
              "    <tr>\n",
              "      <th>0</th>\n",
              "      <td>22.613600</td>\n",
              "      <td>63.690706</td>\n",
              "      <td>5.749914</td>\n",
              "      <td>87.759539</td>\n",
              "      <td>0</td>\n",
              "    </tr>\n",
              "    <tr>\n",
              "      <th>1</th>\n",
              "      <td>26.100184</td>\n",
              "      <td>71.574769</td>\n",
              "      <td>6.931757</td>\n",
              "      <td>102.266244</td>\n",
              "      <td>0</td>\n",
              "    </tr>\n",
              "    <tr>\n",
              "      <th>2</th>\n",
              "      <td>23.558821</td>\n",
              "      <td>71.593514</td>\n",
              "      <td>6.657965</td>\n",
              "      <td>66.719955</td>\n",
              "      <td>0</td>\n",
              "    </tr>\n",
              "    <tr>\n",
              "      <th>3</th>\n",
              "      <td>19.972160</td>\n",
              "      <td>57.682729</td>\n",
              "      <td>6.596061</td>\n",
              "      <td>60.651715</td>\n",
              "      <td>0</td>\n",
              "    </tr>\n",
              "    <tr>\n",
              "      <th>4</th>\n",
              "      <td>18.478913</td>\n",
              "      <td>62.695039</td>\n",
              "      <td>5.970458</td>\n",
              "      <td>65.438354</td>\n",
              "      <td>0</td>\n",
              "    </tr>\n",
              "    <tr>\n",
              "      <th>...</th>\n",
              "      <td>...</td>\n",
              "      <td>...</td>\n",
              "      <td>...</td>\n",
              "      <td>...</td>\n",
              "      <td>...</td>\n",
              "    </tr>\n",
              "    <tr>\n",
              "      <th>495</th>\n",
              "      <td>22.107190</td>\n",
              "      <td>78.583201</td>\n",
              "      <td>6.364730</td>\n",
              "      <td>74.941366</td>\n",
              "      <td>0</td>\n",
              "    </tr>\n",
              "    <tr>\n",
              "      <th>496</th>\n",
              "      <td>23.038140</td>\n",
              "      <td>76.110215</td>\n",
              "      <td>6.913679</td>\n",
              "      <td>91.496975</td>\n",
              "      <td>1</td>\n",
              "    </tr>\n",
              "    <tr>\n",
              "      <th>497</th>\n",
              "      <td>24.547953</td>\n",
              "      <td>75.397527</td>\n",
              "      <td>7.766260</td>\n",
              "      <td>63.880799</td>\n",
              "      <td>0</td>\n",
              "    </tr>\n",
              "    <tr>\n",
              "      <th>498</th>\n",
              "      <td>23.738680</td>\n",
              "      <td>75.775038</td>\n",
              "      <td>7.556064</td>\n",
              "      <td>76.636692</td>\n",
              "      <td>0</td>\n",
              "    </tr>\n",
              "    <tr>\n",
              "      <th>499</th>\n",
              "      <td>22.318719</td>\n",
              "      <td>83.861300</td>\n",
              "      <td>7.288377</td>\n",
              "      <td>65.357470</td>\n",
              "      <td>1</td>\n",
              "    </tr>\n",
              "  </tbody>\n",
              "</table>\n",
              "<p>500 rows × 5 columns</p>\n",
              "</div>\n",
              "      <button class=\"colab-df-convert\" onclick=\"convertToInteractive('df-185707d1-e9bd-40ad-9f86-b48bfa7face1')\"\n",
              "              title=\"Convert this dataframe to an interactive table.\"\n",
              "              style=\"display:none;\">\n",
              "        \n",
              "  <svg xmlns=\"http://www.w3.org/2000/svg\" height=\"24px\"viewBox=\"0 0 24 24\"\n",
              "       width=\"24px\">\n",
              "    <path d=\"M0 0h24v24H0V0z\" fill=\"none\"/>\n",
              "    <path d=\"M18.56 5.44l.94 2.06.94-2.06 2.06-.94-2.06-.94-.94-2.06-.94 2.06-2.06.94zm-11 1L8.5 8.5l.94-2.06 2.06-.94-2.06-.94L8.5 2.5l-.94 2.06-2.06.94zm10 10l.94 2.06.94-2.06 2.06-.94-2.06-.94-.94-2.06-.94 2.06-2.06.94z\"/><path d=\"M17.41 7.96l-1.37-1.37c-.4-.4-.92-.59-1.43-.59-.52 0-1.04.2-1.43.59L10.3 9.45l-7.72 7.72c-.78.78-.78 2.05 0 2.83L4 21.41c.39.39.9.59 1.41.59.51 0 1.02-.2 1.41-.59l7.78-7.78 2.81-2.81c.8-.78.8-2.07 0-2.86zM5.41 20L4 18.59l7.72-7.72 1.47 1.35L5.41 20z\"/>\n",
              "  </svg>\n",
              "      </button>\n",
              "      \n",
              "  <style>\n",
              "    .colab-df-container {\n",
              "      display:flex;\n",
              "      flex-wrap:wrap;\n",
              "      gap: 12px;\n",
              "    }\n",
              "\n",
              "    .colab-df-convert {\n",
              "      background-color: #E8F0FE;\n",
              "      border: none;\n",
              "      border-radius: 50%;\n",
              "      cursor: pointer;\n",
              "      display: none;\n",
              "      fill: #1967D2;\n",
              "      height: 32px;\n",
              "      padding: 0 0 0 0;\n",
              "      width: 32px;\n",
              "    }\n",
              "\n",
              "    .colab-df-convert:hover {\n",
              "      background-color: #E2EBFA;\n",
              "      box-shadow: 0px 1px 2px rgba(60, 64, 67, 0.3), 0px 1px 3px 1px rgba(60, 64, 67, 0.15);\n",
              "      fill: #174EA6;\n",
              "    }\n",
              "\n",
              "    [theme=dark] .colab-df-convert {\n",
              "      background-color: #3B4455;\n",
              "      fill: #D2E3FC;\n",
              "    }\n",
              "\n",
              "    [theme=dark] .colab-df-convert:hover {\n",
              "      background-color: #434B5C;\n",
              "      box-shadow: 0px 1px 3px 1px rgba(0, 0, 0, 0.15);\n",
              "      filter: drop-shadow(0px 1px 2px rgba(0, 0, 0, 0.3));\n",
              "      fill: #FFFFFF;\n",
              "    }\n",
              "  </style>\n",
              "\n",
              "      <script>\n",
              "        const buttonEl =\n",
              "          document.querySelector('#df-185707d1-e9bd-40ad-9f86-b48bfa7face1 button.colab-df-convert');\n",
              "        buttonEl.style.display =\n",
              "          google.colab.kernel.accessAllowed ? 'block' : 'none';\n",
              "\n",
              "        async function convertToInteractive(key) {\n",
              "          const element = document.querySelector('#df-185707d1-e9bd-40ad-9f86-b48bfa7face1');\n",
              "          const dataTable =\n",
              "            await google.colab.kernel.invokeFunction('convertToInteractive',\n",
              "                                                     [key], {});\n",
              "          if (!dataTable) return;\n",
              "\n",
              "          const docLinkHtml = 'Like what you see? Visit the ' +\n",
              "            '<a target=\"_blank\" href=https://colab.research.google.com/notebooks/data_table.ipynb>data table notebook</a>'\n",
              "            + ' to learn more about interactive tables.';\n",
              "          element.innerHTML = '';\n",
              "          dataTable['output_type'] = 'display_data';\n",
              "          await google.colab.output.renderOutput(dataTable, element);\n",
              "          const docLink = document.createElement('div');\n",
              "          docLink.innerHTML = docLinkHtml;\n",
              "          element.appendChild(docLink);\n",
              "        }\n",
              "      </script>\n",
              "    </div>\n",
              "  </div>\n",
              "  "
            ]
          },
          "metadata": {},
          "execution_count": 5
        }
      ]
    },
    {
      "cell_type": "code",
      "source": [
        "df.info()"
      ],
      "metadata": {
        "colab": {
          "base_uri": "https://localhost:8080/"
        },
        "id": "x8IaROm1zH_i",
        "outputId": "72dbee6c-516d-4a4b-9b6d-c1a3c3b6f844"
      },
      "execution_count": 6,
      "outputs": [
        {
          "output_type": "stream",
          "name": "stdout",
          "text": [
            "<class 'pandas.core.frame.DataFrame'>\n",
            "RangeIndex: 500 entries, 0 to 499\n",
            "Data columns (total 5 columns):\n",
            " #   Column       Non-Null Count  Dtype  \n",
            "---  ------       --------------  -----  \n",
            " 0   temperature  500 non-null    float64\n",
            " 1   humidity     500 non-null    float64\n",
            " 2   ph           500 non-null    float64\n",
            " 3   rainfall     500 non-null    float64\n",
            " 4   Irrigation   500 non-null    int64  \n",
            "dtypes: float64(4), int64(1)\n",
            "memory usage: 19.7 KB\n"
          ]
        }
      ]
    },
    {
      "cell_type": "code",
      "source": [
        "!pip install plotly matplotlib seaborn --quiet"
      ],
      "metadata": {
        "id": "dmk5HSjkBRJD"
      },
      "execution_count": 10,
      "outputs": []
    },
    {
      "cell_type": "code",
      "source": [
        "px.histogram(df, x='temperature', title='temperature vs. Irrigation', color='Irrigation')"
      ],
      "metadata": {
        "colab": {
          "base_uri": "https://localhost:8080/",
          "height": 542
        },
        "id": "J_Ax5evizP9E",
        "outputId": "18304b74-3fd2-4c17-cd1b-9473cc353593"
      },
      "execution_count": 15,
      "outputs": [
        {
          "output_type": "display_data",
          "data": {
            "text/html": [
              "<html>\n",
              "<head><meta charset=\"utf-8\" /></head>\n",
              "<body>\n",
              "    <div>            <script src=\"https://cdnjs.cloudflare.com/ajax/libs/mathjax/2.7.5/MathJax.js?config=TeX-AMS-MML_SVG\"></script><script type=\"text/javascript\">if (window.MathJax) {MathJax.Hub.Config({SVG: {font: \"STIX-Web\"}});}</script>                <script type=\"text/javascript\">window.PlotlyConfig = {MathJaxConfig: 'local'};</script>\n",
              "        <script src=\"https://cdn.plot.ly/plotly-2.8.3.min.js\"></script>                <div id=\"3bda105a-403e-4007-b6ce-f587cef5ae35\" class=\"plotly-graph-div\" style=\"height:525px; width:100%;\"></div>            <script type=\"text/javascript\">                                    window.PLOTLYENV=window.PLOTLYENV || {};                                    if (document.getElementById(\"3bda105a-403e-4007-b6ce-f587cef5ae35\")) {                    Plotly.newPlot(                        \"3bda105a-403e-4007-b6ce-f587cef5ae35\",                        [{\"alignmentgroup\":\"True\",\"bingroup\":\"x\",\"hovertemplate\":\"Irrigation=0<br>temperature=%{x}<br>count=%{y}<extra></extra>\",\"legendgroup\":\"0\",\"marker\":{\"color\":\"#636efa\",\"pattern\":{\"shape\":\"\"}},\"name\":\"0\",\"offsetgroup\":\"0\",\"orientation\":\"v\",\"showlegend\":true,\"x\":[22.61359953,26.10018422,23.55882094,19.97215954,18.47891261,21.77689322,25.6217169,25.19192419,20.41683147,24.92162194,23.31689124,24.84016732,22.27526694,18.87751445,25.19008683,18.25405352,25.1420613,23.09348056,18.14710054,18.28362235,25.71895816,25.33797709,23.08974909,25.61707368,22.53510514,24.89364635,25.77175115,23.79746068,24.10859207,25.37548751,22.21738222,24.87502824,25.95263264,20.57981887,20.27317074,23.39128187,21.869274,19.0781471,22.02720976,18.52510753,26.54986394,19.32666088,22.27373646,25.70196694,19.20129357,21.70181447,20.51716779,23.30355338,24.2547451,24.86374934,22.6265115,18.04185513,22.88330922,25.97482359,18.66116213,25.10787449,25.08239719,25.36768364,25.00933355,18.66746724,18.09300227,26.16985907,26.07470121,18.92851916,18.74826712,19.74213321,17.13692774,19.63474332,16.43340342,22.13974653,19.88394011,19.32509638,21.81167649,19.72702528,19.62207826,21.63149148,20.61162204,21.42451099,21.18853178,23.0429097,18.09551014,18.23775702,19.9191786,20.27514686,16.71170642,18.50692825,21.59343016,15.43546065,21.98560799,15.78601387,19.6365349,20.16080524,19.91853092,20.76952209,23.46168338,20.12574053,21.80619564,17.00067625,24.84906168,18.15300153,23.38002569,19.25975367,22.95458237,21.14011423,24.92360104,18.81097271,22.8352024,24.9035819,22.05592283,18.62328774,23.00884744,19.33162606,21.02213209,19.30607278,19.92889503,19.56376468,23.60506572,20.93409877,27.91095209,27.32220619,29.02955344,27.78031515,28.92952635,27.65472156,31.02215872,31.70447482,25.60973447,28.17489437,25.50634557,27.04453473,27.3179125,31.21629982,25.42517036,24.30935081,28.09568993,28.70012137,24.21610338,30.88482722,25.5042419,27.10508014,26.45707778,30.99256944,25.36140526,28.99319096,28.63618921,27.06179658,28.79929247,30.47757686,26.85911286,26.31051759,28.90245417,28.19912143,28.76488954,28.00937423,26.85851927,24.20422636,29.98835437,31.2119298,26.80474415,31.49398069,29.61253065,29.97604322,30.88883074,30.39321309,25.32688786,30.53684308,30.38257873,24.01825377,29.33743412,27.96583691,24.86803974,25.87682261,27.43329405,28.3340432,27.01470397,29.87888063,29.89232778,28.56212158,29.68361658,28.14448546,29.53037621,28.22471276,29.008124,29.75538903,29.78416743,27.11026483,27.11030369,28.95451232,29.21780035,29.65021184,27.23924995,28.95172351,28.30041493,27.89636126,28.6899851,28.6362812,27.60887393,29.24598976,29.57329479,29.8757015,29.83040388,29.5888162,28.07219563,29.34594634,28.36319404,27.31372793,27.06909959,27.73329078,27.53632932,29.66461594,28.36363858,29.46416042,27.46852989,27.77076285,29.12939524,28.88078945,28.14720892,29.89129144,29.27308605,29.65296893,28.44524991,29.25649321,28.36291385,27.62749466,29.2114218,29.40889385,28.02952623,29.16174608,29.8596912,29.06631494,27.93034941,29.2808618,28.9973145,28.5474135,28.56149805,28.43683487,28.7275267,27.95639663,28.17458662,28.438097,24.40228894,23.9656349,24.88738107,24.69457084,25.0017188,23.60564038,24.58453146,23.5000992,24.1472953,24.484692,24.49112609,24.18586246,25.00755095,23.66457347,25.66891439,22.4204752,25.03149561,22.77076388,25.49848236,25.248679,23.37044424,24.86560781,25.03300222,23.65724079,22.00085141,23.64328417,24.65425757,24.3017998,24.29144926,25.72180042,24.87663664,22.60612115,23.41022496,24.96440768,22.45145981,23.04920461,22.95604064,23.54234715,22.94276687,25.32023717,25.78544484,22.14593688,22.21506982,25.40059227,24.16402322,22.60361557,22.74446976,23.80834611,25.96779712,24.43847399,23.03887865,22.75805656,24.71252544,25.5503704,22.08458267,25.84997269,22.46054478,22.00817088,24.32630461,23.43821725,22.10718988,24.54795322,23.73868041],\"xaxis\":\"x\",\"yaxis\":\"y\",\"type\":\"histogram\"},{\"alignmentgroup\":\"True\",\"bingroup\":\"x\",\"hovertemplate\":\"Irrigation=1<br>temperature=%{x}<br>count=%{y}<extra></extra>\",\"legendgroup\":\"1\",\"marker\":{\"color\":\"#EF553B\",\"pattern\":{\"shape\":\"\"}},\"name\":\"1\",\"offsetgroup\":\"1\",\"orientation\":\"v\",\"showlegend\":true,\"x\":[24.6129118,18.05033737,24.9321581,18.83344471,23.89114571,21.53574127,21.44526922,18.51816776,23.02038334,19.39851734,21.54156232,18.9802729,24.7947077,21.63162756,20.58314011,20.03728219,19.28889933,24.71417533,18.41932981,19.84939404,22.8056033,23.80546189,23.50297882,19.29563411,20.68899915,24.60532218,23.26237612,26.14384005,23.33844615,25.34217103,20.37999665,18.65396672,23.30546753,25.73044432,22.91350245,17.84806561,18.4167001,17.15432954,16.06522754,19.07096165,20.65375833,17.48189735,15.77370214,17.66148158,24.51324787,18.87614998,20.12373284,22.64236876,20.53052663,20.57341244,21.53989176,15.53834801,24.32116642,19.52226241,16.78791503,16.51783455,23.18864385,18.358923,20.120043,15.33042636,23.44260668,23.78709569,18.87492997,16.24469193,17.91652287,15.46789263,17.06104474,21.32776028,23.90910104,23.89756791,22.98666928,21.35135729,24.1638445,24.62835037,17.30844532,23.82576704,16.03768615,19.18572809,18.31357543,20.10993761,19.73136909,18.78226261,28.66024187,31.99928579,27.33580911,28.52396666,25.74095321,24.47876451,31.46511256,30.30260453,31.12896766,26.34043268,28.23494706,25.16125354,25.4123765,30.573999,27.09400578,30.06142622,26.33908791,28.61409059,28.50677929,25.97948991,25.12528913,31.1006247,30.04132304,27.77799528,26.4908332,31.96987867,25.54249137,29.34317422,24.83206631,25.44689075,31.01274943,27.0956288,28.56800579,27.94293692,30.58139475,28.77833449,29.37687468,24.17093241,26.65333029,29.3499706,31.2123945,29.93964907,30.99694676,30.43683729,28.69841277,31.01963639,28.17432665,27.53592929,27.88352946,27.8640132,28.7420098,28.18837136,27.8262623,28.70562673,28.28511547,28.60901145,28.62911222,27.82684262,27.33684386,28.2753171,29.86860065,27.84026517,27.10818093,27.68515114,27.65280218,28.06642822,29.9145443,29.73013036,27.10606808,27.41503453,27.96235681,28.66086349,28.08657178,27.38538997,27.92678579,29.36488409,28.79728147,28.77653519,23.09595631,25.36243778,22.45942937,23.0865933,24.69315538,23.47986888,25.99237426,22.04612876,23.53371386,22.78249615,24.14386157,25.54359718,23.96436009,24.29470232,23.86814008,25.16820129,22.72767171,25.29250148,22.80213132,24.41212325,25.53676123,22.426733,25.68959532,25.07278712,23.9643129,23.7805123,25.31468463,22.9535715,25.46228792,25.5308271,23.51308653,23.45969093,24.68854799,23.65629976,22.92360984,23.03814028,22.31871914],\"xaxis\":\"x\",\"yaxis\":\"y\",\"type\":\"histogram\"}],                        {\"template\":{\"data\":{\"bar\":[{\"error_x\":{\"color\":\"#2a3f5f\"},\"error_y\":{\"color\":\"#2a3f5f\"},\"marker\":{\"line\":{\"color\":\"#E5ECF6\",\"width\":0.5},\"pattern\":{\"fillmode\":\"overlay\",\"size\":10,\"solidity\":0.2}},\"type\":\"bar\"}],\"barpolar\":[{\"marker\":{\"line\":{\"color\":\"#E5ECF6\",\"width\":0.5},\"pattern\":{\"fillmode\":\"overlay\",\"size\":10,\"solidity\":0.2}},\"type\":\"barpolar\"}],\"carpet\":[{\"aaxis\":{\"endlinecolor\":\"#2a3f5f\",\"gridcolor\":\"white\",\"linecolor\":\"white\",\"minorgridcolor\":\"white\",\"startlinecolor\":\"#2a3f5f\"},\"baxis\":{\"endlinecolor\":\"#2a3f5f\",\"gridcolor\":\"white\",\"linecolor\":\"white\",\"minorgridcolor\":\"white\",\"startlinecolor\":\"#2a3f5f\"},\"type\":\"carpet\"}],\"choropleth\":[{\"colorbar\":{\"outlinewidth\":0,\"ticks\":\"\"},\"type\":\"choropleth\"}],\"contour\":[{\"colorbar\":{\"outlinewidth\":0,\"ticks\":\"\"},\"colorscale\":[[0.0,\"#0d0887\"],[0.1111111111111111,\"#46039f\"],[0.2222222222222222,\"#7201a8\"],[0.3333333333333333,\"#9c179e\"],[0.4444444444444444,\"#bd3786\"],[0.5555555555555556,\"#d8576b\"],[0.6666666666666666,\"#ed7953\"],[0.7777777777777778,\"#fb9f3a\"],[0.8888888888888888,\"#fdca26\"],[1.0,\"#f0f921\"]],\"type\":\"contour\"}],\"contourcarpet\":[{\"colorbar\":{\"outlinewidth\":0,\"ticks\":\"\"},\"type\":\"contourcarpet\"}],\"heatmap\":[{\"colorbar\":{\"outlinewidth\":0,\"ticks\":\"\"},\"colorscale\":[[0.0,\"#0d0887\"],[0.1111111111111111,\"#46039f\"],[0.2222222222222222,\"#7201a8\"],[0.3333333333333333,\"#9c179e\"],[0.4444444444444444,\"#bd3786\"],[0.5555555555555556,\"#d8576b\"],[0.6666666666666666,\"#ed7953\"],[0.7777777777777778,\"#fb9f3a\"],[0.8888888888888888,\"#fdca26\"],[1.0,\"#f0f921\"]],\"type\":\"heatmap\"}],\"heatmapgl\":[{\"colorbar\":{\"outlinewidth\":0,\"ticks\":\"\"},\"colorscale\":[[0.0,\"#0d0887\"],[0.1111111111111111,\"#46039f\"],[0.2222222222222222,\"#7201a8\"],[0.3333333333333333,\"#9c179e\"],[0.4444444444444444,\"#bd3786\"],[0.5555555555555556,\"#d8576b\"],[0.6666666666666666,\"#ed7953\"],[0.7777777777777778,\"#fb9f3a\"],[0.8888888888888888,\"#fdca26\"],[1.0,\"#f0f921\"]],\"type\":\"heatmapgl\"}],\"histogram\":[{\"marker\":{\"pattern\":{\"fillmode\":\"overlay\",\"size\":10,\"solidity\":0.2}},\"type\":\"histogram\"}],\"histogram2d\":[{\"colorbar\":{\"outlinewidth\":0,\"ticks\":\"\"},\"colorscale\":[[0.0,\"#0d0887\"],[0.1111111111111111,\"#46039f\"],[0.2222222222222222,\"#7201a8\"],[0.3333333333333333,\"#9c179e\"],[0.4444444444444444,\"#bd3786\"],[0.5555555555555556,\"#d8576b\"],[0.6666666666666666,\"#ed7953\"],[0.7777777777777778,\"#fb9f3a\"],[0.8888888888888888,\"#fdca26\"],[1.0,\"#f0f921\"]],\"type\":\"histogram2d\"}],\"histogram2dcontour\":[{\"colorbar\":{\"outlinewidth\":0,\"ticks\":\"\"},\"colorscale\":[[0.0,\"#0d0887\"],[0.1111111111111111,\"#46039f\"],[0.2222222222222222,\"#7201a8\"],[0.3333333333333333,\"#9c179e\"],[0.4444444444444444,\"#bd3786\"],[0.5555555555555556,\"#d8576b\"],[0.6666666666666666,\"#ed7953\"],[0.7777777777777778,\"#fb9f3a\"],[0.8888888888888888,\"#fdca26\"],[1.0,\"#f0f921\"]],\"type\":\"histogram2dcontour\"}],\"mesh3d\":[{\"colorbar\":{\"outlinewidth\":0,\"ticks\":\"\"},\"type\":\"mesh3d\"}],\"parcoords\":[{\"line\":{\"colorbar\":{\"outlinewidth\":0,\"ticks\":\"\"}},\"type\":\"parcoords\"}],\"pie\":[{\"automargin\":true,\"type\":\"pie\"}],\"scatter\":[{\"marker\":{\"colorbar\":{\"outlinewidth\":0,\"ticks\":\"\"}},\"type\":\"scatter\"}],\"scatter3d\":[{\"line\":{\"colorbar\":{\"outlinewidth\":0,\"ticks\":\"\"}},\"marker\":{\"colorbar\":{\"outlinewidth\":0,\"ticks\":\"\"}},\"type\":\"scatter3d\"}],\"scattercarpet\":[{\"marker\":{\"colorbar\":{\"outlinewidth\":0,\"ticks\":\"\"}},\"type\":\"scattercarpet\"}],\"scattergeo\":[{\"marker\":{\"colorbar\":{\"outlinewidth\":0,\"ticks\":\"\"}},\"type\":\"scattergeo\"}],\"scattergl\":[{\"marker\":{\"colorbar\":{\"outlinewidth\":0,\"ticks\":\"\"}},\"type\":\"scattergl\"}],\"scattermapbox\":[{\"marker\":{\"colorbar\":{\"outlinewidth\":0,\"ticks\":\"\"}},\"type\":\"scattermapbox\"}],\"scatterpolar\":[{\"marker\":{\"colorbar\":{\"outlinewidth\":0,\"ticks\":\"\"}},\"type\":\"scatterpolar\"}],\"scatterpolargl\":[{\"marker\":{\"colorbar\":{\"outlinewidth\":0,\"ticks\":\"\"}},\"type\":\"scatterpolargl\"}],\"scatterternary\":[{\"marker\":{\"colorbar\":{\"outlinewidth\":0,\"ticks\":\"\"}},\"type\":\"scatterternary\"}],\"surface\":[{\"colorbar\":{\"outlinewidth\":0,\"ticks\":\"\"},\"colorscale\":[[0.0,\"#0d0887\"],[0.1111111111111111,\"#46039f\"],[0.2222222222222222,\"#7201a8\"],[0.3333333333333333,\"#9c179e\"],[0.4444444444444444,\"#bd3786\"],[0.5555555555555556,\"#d8576b\"],[0.6666666666666666,\"#ed7953\"],[0.7777777777777778,\"#fb9f3a\"],[0.8888888888888888,\"#fdca26\"],[1.0,\"#f0f921\"]],\"type\":\"surface\"}],\"table\":[{\"cells\":{\"fill\":{\"color\":\"#EBF0F8\"},\"line\":{\"color\":\"white\"}},\"header\":{\"fill\":{\"color\":\"#C8D4E3\"},\"line\":{\"color\":\"white\"}},\"type\":\"table\"}]},\"layout\":{\"annotationdefaults\":{\"arrowcolor\":\"#2a3f5f\",\"arrowhead\":0,\"arrowwidth\":1},\"autotypenumbers\":\"strict\",\"coloraxis\":{\"colorbar\":{\"outlinewidth\":0,\"ticks\":\"\"}},\"colorscale\":{\"diverging\":[[0,\"#8e0152\"],[0.1,\"#c51b7d\"],[0.2,\"#de77ae\"],[0.3,\"#f1b6da\"],[0.4,\"#fde0ef\"],[0.5,\"#f7f7f7\"],[0.6,\"#e6f5d0\"],[0.7,\"#b8e186\"],[0.8,\"#7fbc41\"],[0.9,\"#4d9221\"],[1,\"#276419\"]],\"sequential\":[[0.0,\"#0d0887\"],[0.1111111111111111,\"#46039f\"],[0.2222222222222222,\"#7201a8\"],[0.3333333333333333,\"#9c179e\"],[0.4444444444444444,\"#bd3786\"],[0.5555555555555556,\"#d8576b\"],[0.6666666666666666,\"#ed7953\"],[0.7777777777777778,\"#fb9f3a\"],[0.8888888888888888,\"#fdca26\"],[1.0,\"#f0f921\"]],\"sequentialminus\":[[0.0,\"#0d0887\"],[0.1111111111111111,\"#46039f\"],[0.2222222222222222,\"#7201a8\"],[0.3333333333333333,\"#9c179e\"],[0.4444444444444444,\"#bd3786\"],[0.5555555555555556,\"#d8576b\"],[0.6666666666666666,\"#ed7953\"],[0.7777777777777778,\"#fb9f3a\"],[0.8888888888888888,\"#fdca26\"],[1.0,\"#f0f921\"]]},\"colorway\":[\"#636efa\",\"#EF553B\",\"#00cc96\",\"#ab63fa\",\"#FFA15A\",\"#19d3f3\",\"#FF6692\",\"#B6E880\",\"#FF97FF\",\"#FECB52\"],\"font\":{\"color\":\"#2a3f5f\"},\"geo\":{\"bgcolor\":\"white\",\"lakecolor\":\"white\",\"landcolor\":\"#E5ECF6\",\"showlakes\":true,\"showland\":true,\"subunitcolor\":\"white\"},\"hoverlabel\":{\"align\":\"left\"},\"hovermode\":\"closest\",\"mapbox\":{\"style\":\"light\"},\"paper_bgcolor\":\"white\",\"plot_bgcolor\":\"#E5ECF6\",\"polar\":{\"angularaxis\":{\"gridcolor\":\"white\",\"linecolor\":\"white\",\"ticks\":\"\"},\"bgcolor\":\"#E5ECF6\",\"radialaxis\":{\"gridcolor\":\"white\",\"linecolor\":\"white\",\"ticks\":\"\"}},\"scene\":{\"xaxis\":{\"backgroundcolor\":\"#E5ECF6\",\"gridcolor\":\"white\",\"gridwidth\":2,\"linecolor\":\"white\",\"showbackground\":true,\"ticks\":\"\",\"zerolinecolor\":\"white\"},\"yaxis\":{\"backgroundcolor\":\"#E5ECF6\",\"gridcolor\":\"white\",\"gridwidth\":2,\"linecolor\":\"white\",\"showbackground\":true,\"ticks\":\"\",\"zerolinecolor\":\"white\"},\"zaxis\":{\"backgroundcolor\":\"#E5ECF6\",\"gridcolor\":\"white\",\"gridwidth\":2,\"linecolor\":\"white\",\"showbackground\":true,\"ticks\":\"\",\"zerolinecolor\":\"white\"}},\"shapedefaults\":{\"line\":{\"color\":\"#2a3f5f\"}},\"ternary\":{\"aaxis\":{\"gridcolor\":\"white\",\"linecolor\":\"white\",\"ticks\":\"\"},\"baxis\":{\"gridcolor\":\"white\",\"linecolor\":\"white\",\"ticks\":\"\"},\"bgcolor\":\"#E5ECF6\",\"caxis\":{\"gridcolor\":\"white\",\"linecolor\":\"white\",\"ticks\":\"\"}},\"title\":{\"x\":0.05},\"xaxis\":{\"automargin\":true,\"gridcolor\":\"white\",\"linecolor\":\"white\",\"ticks\":\"\",\"title\":{\"standoff\":15},\"zerolinecolor\":\"white\",\"zerolinewidth\":2},\"yaxis\":{\"automargin\":true,\"gridcolor\":\"white\",\"linecolor\":\"white\",\"ticks\":\"\",\"title\":{\"standoff\":15},\"zerolinecolor\":\"white\",\"zerolinewidth\":2}}},\"xaxis\":{\"anchor\":\"y\",\"domain\":[0.0,1.0],\"title\":{\"text\":\"temperature\"}},\"yaxis\":{\"anchor\":\"x\",\"domain\":[0.0,1.0],\"title\":{\"text\":\"count\"}},\"legend\":{\"title\":{\"text\":\"Irrigation\"},\"tracegroupgap\":0},\"title\":{\"text\":\"temperature vs. Irrigation\"},\"barmode\":\"relative\"},                        {\"responsive\": true}                    ).then(function(){\n",
              "                            \n",
              "var gd = document.getElementById('3bda105a-403e-4007-b6ce-f587cef5ae35');\n",
              "var x = new MutationObserver(function (mutations, observer) {{\n",
              "        var display = window.getComputedStyle(gd).display;\n",
              "        if (!display || display === 'none') {{\n",
              "            console.log([gd, 'removed!']);\n",
              "            Plotly.purge(gd);\n",
              "            observer.disconnect();\n",
              "        }}\n",
              "}});\n",
              "\n",
              "// Listen for the removal of the full notebook cells\n",
              "var notebookContainer = gd.closest('#notebook-container');\n",
              "if (notebookContainer) {{\n",
              "    x.observe(notebookContainer, {childList: true});\n",
              "}}\n",
              "\n",
              "// Listen for the clearing of the current output cell\n",
              "var outputEl = gd.closest('.output');\n",
              "if (outputEl) {{\n",
              "    x.observe(outputEl, {childList: true});\n",
              "}}\n",
              "\n",
              "                        })                };                            </script>        </div>\n",
              "</body>\n",
              "</html>"
            ]
          },
          "metadata": {}
        }
      ]
    },
    {
      "cell_type": "code",
      "source": [
        "!pip install scikit-learn --upgrade --quiet"
      ],
      "metadata": {
        "id": "oPxzxTF4CJtW"
      },
      "execution_count": 16,
      "outputs": []
    },
    {
      "cell_type": "code",
      "source": [
        "from sklearn.model_selection import train_test_split"
      ],
      "metadata": {
        "id": "V5zJZBX9CZyY"
      },
      "execution_count": 17,
      "outputs": []
    },
    {
      "cell_type": "code",
      "source": [
        "train_val_df, test_df = train_test_split(df, test_size=0.2, random_state=42)\n",
        "train_df, val_df = train_test_split(train_val_df, test_size=0.25, random_state=42)"
      ],
      "metadata": {
        "id": "95IU0v_7Celu"
      },
      "execution_count": 18,
      "outputs": []
    },
    {
      "cell_type": "code",
      "source": [
        "print('train_df.shape :', train_df.shape)\n",
        "print('val_df.shape :', val_df.shape)\n",
        "print('test_df.shape :', test_df.shape)"
      ],
      "metadata": {
        "colab": {
          "base_uri": "https://localhost:8080/"
        },
        "id": "KvZ7FQQTCna9",
        "outputId": "265c8df1-fe53-409a-eb20-1fb5f5e57e49"
      },
      "execution_count": 19,
      "outputs": [
        {
          "output_type": "stream",
          "name": "stdout",
          "text": [
            "train_df.shape : (300, 5)\n",
            "val_df.shape : (100, 5)\n",
            "test_df.shape : (100, 5)\n"
          ]
        }
      ]
    },
    {
      "cell_type": "code",
      "source": [
        "train_df"
      ],
      "metadata": {
        "colab": {
          "base_uri": "https://localhost:8080/",
          "height": 423
        },
        "id": "b5mD6msVCtMv",
        "outputId": "c801d19b-1da2-420c-d1e5-63f88885574b"
      },
      "execution_count": 20,
      "outputs": [
        {
          "output_type": "execute_result",
          "data": {
            "text/plain": [
              "     temperature   humidity        ph    rainfall  Irrigation\n",
              "421    25.668914  81.381033  6.652144   78.595958           0\n",
              "250    25.361405  46.826528  9.160692   55.605232           0\n",
              "247    30.992569  43.021514  8.034413   58.276007           0\n",
              "26     23.891146  57.487758  5.893093  102.830194           1\n",
              "198    20.934099  21.189301  5.562202  133.191442           0\n",
              "..           ...        ...       ...         ...         ...\n",
              "157    23.380026  21.988794  5.744118   87.668987           0\n",
              "228    25.425170  53.220827  4.523636   46.193746           0\n",
              "27     21.535741  71.509060  5.918264  102.485293           1\n",
              "480    23.038879  76.470398  6.983396   90.647707           0\n",
              "245    30.041323  63.562230  8.620108   31.831924           1\n",
              "\n",
              "[300 rows x 5 columns]"
            ],
            "text/html": [
              "\n",
              "  <div id=\"df-6f77ef2d-613a-49e5-a45b-7fa10b3c2909\">\n",
              "    <div class=\"colab-df-container\">\n",
              "      <div>\n",
              "<style scoped>\n",
              "    .dataframe tbody tr th:only-of-type {\n",
              "        vertical-align: middle;\n",
              "    }\n",
              "\n",
              "    .dataframe tbody tr th {\n",
              "        vertical-align: top;\n",
              "    }\n",
              "\n",
              "    .dataframe thead th {\n",
              "        text-align: right;\n",
              "    }\n",
              "</style>\n",
              "<table border=\"1\" class=\"dataframe\">\n",
              "  <thead>\n",
              "    <tr style=\"text-align: right;\">\n",
              "      <th></th>\n",
              "      <th>temperature</th>\n",
              "      <th>humidity</th>\n",
              "      <th>ph</th>\n",
              "      <th>rainfall</th>\n",
              "      <th>Irrigation</th>\n",
              "    </tr>\n",
              "  </thead>\n",
              "  <tbody>\n",
              "    <tr>\n",
              "      <th>421</th>\n",
              "      <td>25.668914</td>\n",
              "      <td>81.381033</td>\n",
              "      <td>6.652144</td>\n",
              "      <td>78.595958</td>\n",
              "      <td>0</td>\n",
              "    </tr>\n",
              "    <tr>\n",
              "      <th>250</th>\n",
              "      <td>25.361405</td>\n",
              "      <td>46.826528</td>\n",
              "      <td>9.160692</td>\n",
              "      <td>55.605232</td>\n",
              "      <td>0</td>\n",
              "    </tr>\n",
              "    <tr>\n",
              "      <th>247</th>\n",
              "      <td>30.992569</td>\n",
              "      <td>43.021514</td>\n",
              "      <td>8.034413</td>\n",
              "      <td>58.276007</td>\n",
              "      <td>0</td>\n",
              "    </tr>\n",
              "    <tr>\n",
              "      <th>26</th>\n",
              "      <td>23.891146</td>\n",
              "      <td>57.487758</td>\n",
              "      <td>5.893093</td>\n",
              "      <td>102.830194</td>\n",
              "      <td>1</td>\n",
              "    </tr>\n",
              "    <tr>\n",
              "      <th>198</th>\n",
              "      <td>20.934099</td>\n",
              "      <td>21.189301</td>\n",
              "      <td>5.562202</td>\n",
              "      <td>133.191442</td>\n",
              "      <td>0</td>\n",
              "    </tr>\n",
              "    <tr>\n",
              "      <th>...</th>\n",
              "      <td>...</td>\n",
              "      <td>...</td>\n",
              "      <td>...</td>\n",
              "      <td>...</td>\n",
              "      <td>...</td>\n",
              "    </tr>\n",
              "    <tr>\n",
              "      <th>157</th>\n",
              "      <td>23.380026</td>\n",
              "      <td>21.988794</td>\n",
              "      <td>5.744118</td>\n",
              "      <td>87.668987</td>\n",
              "      <td>0</td>\n",
              "    </tr>\n",
              "    <tr>\n",
              "      <th>228</th>\n",
              "      <td>25.425170</td>\n",
              "      <td>53.220827</td>\n",
              "      <td>4.523636</td>\n",
              "      <td>46.193746</td>\n",
              "      <td>0</td>\n",
              "    </tr>\n",
              "    <tr>\n",
              "      <th>27</th>\n",
              "      <td>21.535741</td>\n",
              "      <td>71.509060</td>\n",
              "      <td>5.918264</td>\n",
              "      <td>102.485293</td>\n",
              "      <td>1</td>\n",
              "    </tr>\n",
              "    <tr>\n",
              "      <th>480</th>\n",
              "      <td>23.038879</td>\n",
              "      <td>76.470398</td>\n",
              "      <td>6.983396</td>\n",
              "      <td>90.647707</td>\n",
              "      <td>0</td>\n",
              "    </tr>\n",
              "    <tr>\n",
              "      <th>245</th>\n",
              "      <td>30.041323</td>\n",
              "      <td>63.562230</td>\n",
              "      <td>8.620108</td>\n",
              "      <td>31.831924</td>\n",
              "      <td>1</td>\n",
              "    </tr>\n",
              "  </tbody>\n",
              "</table>\n",
              "<p>300 rows × 5 columns</p>\n",
              "</div>\n",
              "      <button class=\"colab-df-convert\" onclick=\"convertToInteractive('df-6f77ef2d-613a-49e5-a45b-7fa10b3c2909')\"\n",
              "              title=\"Convert this dataframe to an interactive table.\"\n",
              "              style=\"display:none;\">\n",
              "        \n",
              "  <svg xmlns=\"http://www.w3.org/2000/svg\" height=\"24px\"viewBox=\"0 0 24 24\"\n",
              "       width=\"24px\">\n",
              "    <path d=\"M0 0h24v24H0V0z\" fill=\"none\"/>\n",
              "    <path d=\"M18.56 5.44l.94 2.06.94-2.06 2.06-.94-2.06-.94-.94-2.06-.94 2.06-2.06.94zm-11 1L8.5 8.5l.94-2.06 2.06-.94-2.06-.94L8.5 2.5l-.94 2.06-2.06.94zm10 10l.94 2.06.94-2.06 2.06-.94-2.06-.94-.94-2.06-.94 2.06-2.06.94z\"/><path d=\"M17.41 7.96l-1.37-1.37c-.4-.4-.92-.59-1.43-.59-.52 0-1.04.2-1.43.59L10.3 9.45l-7.72 7.72c-.78.78-.78 2.05 0 2.83L4 21.41c.39.39.9.59 1.41.59.51 0 1.02-.2 1.41-.59l7.78-7.78 2.81-2.81c.8-.78.8-2.07 0-2.86zM5.41 20L4 18.59l7.72-7.72 1.47 1.35L5.41 20z\"/>\n",
              "  </svg>\n",
              "      </button>\n",
              "      \n",
              "  <style>\n",
              "    .colab-df-container {\n",
              "      display:flex;\n",
              "      flex-wrap:wrap;\n",
              "      gap: 12px;\n",
              "    }\n",
              "\n",
              "    .colab-df-convert {\n",
              "      background-color: #E8F0FE;\n",
              "      border: none;\n",
              "      border-radius: 50%;\n",
              "      cursor: pointer;\n",
              "      display: none;\n",
              "      fill: #1967D2;\n",
              "      height: 32px;\n",
              "      padding: 0 0 0 0;\n",
              "      width: 32px;\n",
              "    }\n",
              "\n",
              "    .colab-df-convert:hover {\n",
              "      background-color: #E2EBFA;\n",
              "      box-shadow: 0px 1px 2px rgba(60, 64, 67, 0.3), 0px 1px 3px 1px rgba(60, 64, 67, 0.15);\n",
              "      fill: #174EA6;\n",
              "    }\n",
              "\n",
              "    [theme=dark] .colab-df-convert {\n",
              "      background-color: #3B4455;\n",
              "      fill: #D2E3FC;\n",
              "    }\n",
              "\n",
              "    [theme=dark] .colab-df-convert:hover {\n",
              "      background-color: #434B5C;\n",
              "      box-shadow: 0px 1px 3px 1px rgba(0, 0, 0, 0.15);\n",
              "      filter: drop-shadow(0px 1px 2px rgba(0, 0, 0, 0.3));\n",
              "      fill: #FFFFFF;\n",
              "    }\n",
              "  </style>\n",
              "\n",
              "      <script>\n",
              "        const buttonEl =\n",
              "          document.querySelector('#df-6f77ef2d-613a-49e5-a45b-7fa10b3c2909 button.colab-df-convert');\n",
              "        buttonEl.style.display =\n",
              "          google.colab.kernel.accessAllowed ? 'block' : 'none';\n",
              "\n",
              "        async function convertToInteractive(key) {\n",
              "          const element = document.querySelector('#df-6f77ef2d-613a-49e5-a45b-7fa10b3c2909');\n",
              "          const dataTable =\n",
              "            await google.colab.kernel.invokeFunction('convertToInteractive',\n",
              "                                                     [key], {});\n",
              "          if (!dataTable) return;\n",
              "\n",
              "          const docLinkHtml = 'Like what you see? Visit the ' +\n",
              "            '<a target=\"_blank\" href=https://colab.research.google.com/notebooks/data_table.ipynb>data table notebook</a>'\n",
              "            + ' to learn more about interactive tables.';\n",
              "          element.innerHTML = '';\n",
              "          dataTable['output_type'] = 'display_data';\n",
              "          await google.colab.output.renderOutput(dataTable, element);\n",
              "          const docLink = document.createElement('div');\n",
              "          docLink.innerHTML = docLinkHtml;\n",
              "          element.appendChild(docLink);\n",
              "        }\n",
              "      </script>\n",
              "    </div>\n",
              "  </div>\n",
              "  "
            ]
          },
          "metadata": {},
          "execution_count": 20
        }
      ]
    },
    {
      "cell_type": "code",
      "source": [
        "val_df"
      ],
      "metadata": {
        "colab": {
          "base_uri": "https://localhost:8080/",
          "height": 423
        },
        "id": "NmtYoOiwDD9R",
        "outputId": "539988bc-f70e-4201-944b-302b03526731"
      },
      "execution_count": 21,
      "outputs": [
        {
          "output_type": "execute_result",
          "data": {
            "text/plain": [
              "     temperature   humidity        ph    rainfall  Irrigation\n",
              "120    20.653758  23.105386  5.967533   67.717689           1\n",
              "128    17.661482  18.153028  5.635232  100.671176           1\n",
              "271    26.653330  59.790234  7.550091   36.918526           1\n",
              "349    29.345946  85.604726  6.232837   59.036300           0\n",
              "272    28.199121  53.505676  8.709292   52.135805           0\n",
              "..           ...        ...       ...         ...         ...\n",
              "190    16.037686  22.331959  5.976313  130.390080           1\n",
              "385    27.385390  88.666640  6.702772   58.299331           1\n",
              "130    24.513248  20.815276  5.670063   64.194979           1\n",
              "95     18.928519  72.800861  6.158860   82.341629           0\n",
              "175    16.244692  21.357939  5.591704   66.970533           1\n",
              "\n",
              "[100 rows x 5 columns]"
            ],
            "text/html": [
              "\n",
              "  <div id=\"df-ee657d39-4a0d-4555-bfb5-5158a68c68ac\">\n",
              "    <div class=\"colab-df-container\">\n",
              "      <div>\n",
              "<style scoped>\n",
              "    .dataframe tbody tr th:only-of-type {\n",
              "        vertical-align: middle;\n",
              "    }\n",
              "\n",
              "    .dataframe tbody tr th {\n",
              "        vertical-align: top;\n",
              "    }\n",
              "\n",
              "    .dataframe thead th {\n",
              "        text-align: right;\n",
              "    }\n",
              "</style>\n",
              "<table border=\"1\" class=\"dataframe\">\n",
              "  <thead>\n",
              "    <tr style=\"text-align: right;\">\n",
              "      <th></th>\n",
              "      <th>temperature</th>\n",
              "      <th>humidity</th>\n",
              "      <th>ph</th>\n",
              "      <th>rainfall</th>\n",
              "      <th>Irrigation</th>\n",
              "    </tr>\n",
              "  </thead>\n",
              "  <tbody>\n",
              "    <tr>\n",
              "      <th>120</th>\n",
              "      <td>20.653758</td>\n",
              "      <td>23.105386</td>\n",
              "      <td>5.967533</td>\n",
              "      <td>67.717689</td>\n",
              "      <td>1</td>\n",
              "    </tr>\n",
              "    <tr>\n",
              "      <th>128</th>\n",
              "      <td>17.661482</td>\n",
              "      <td>18.153028</td>\n",
              "      <td>5.635232</td>\n",
              "      <td>100.671176</td>\n",
              "      <td>1</td>\n",
              "    </tr>\n",
              "    <tr>\n",
              "      <th>271</th>\n",
              "      <td>26.653330</td>\n",
              "      <td>59.790234</td>\n",
              "      <td>7.550091</td>\n",
              "      <td>36.918526</td>\n",
              "      <td>1</td>\n",
              "    </tr>\n",
              "    <tr>\n",
              "      <th>349</th>\n",
              "      <td>29.345946</td>\n",
              "      <td>85.604726</td>\n",
              "      <td>6.232837</td>\n",
              "      <td>59.036300</td>\n",
              "      <td>0</td>\n",
              "    </tr>\n",
              "    <tr>\n",
              "      <th>272</th>\n",
              "      <td>28.199121</td>\n",
              "      <td>53.505676</td>\n",
              "      <td>8.709292</td>\n",
              "      <td>52.135805</td>\n",
              "      <td>0</td>\n",
              "    </tr>\n",
              "    <tr>\n",
              "      <th>...</th>\n",
              "      <td>...</td>\n",
              "      <td>...</td>\n",
              "      <td>...</td>\n",
              "      <td>...</td>\n",
              "      <td>...</td>\n",
              "    </tr>\n",
              "    <tr>\n",
              "      <th>190</th>\n",
              "      <td>16.037686</td>\n",
              "      <td>22.331959</td>\n",
              "      <td>5.976313</td>\n",
              "      <td>130.390080</td>\n",
              "      <td>1</td>\n",
              "    </tr>\n",
              "    <tr>\n",
              "      <th>385</th>\n",
              "      <td>27.385390</td>\n",
              "      <td>88.666640</td>\n",
              "      <td>6.702772</td>\n",
              "      <td>58.299331</td>\n",
              "      <td>1</td>\n",
              "    </tr>\n",
              "    <tr>\n",
              "      <th>130</th>\n",
              "      <td>24.513248</td>\n",
              "      <td>20.815276</td>\n",
              "      <td>5.670063</td>\n",
              "      <td>64.194979</td>\n",
              "      <td>1</td>\n",
              "    </tr>\n",
              "    <tr>\n",
              "      <th>95</th>\n",
              "      <td>18.928519</td>\n",
              "      <td>72.800861</td>\n",
              "      <td>6.158860</td>\n",
              "      <td>82.341629</td>\n",
              "      <td>0</td>\n",
              "    </tr>\n",
              "    <tr>\n",
              "      <th>175</th>\n",
              "      <td>16.244692</td>\n",
              "      <td>21.357939</td>\n",
              "      <td>5.591704</td>\n",
              "      <td>66.970533</td>\n",
              "      <td>1</td>\n",
              "    </tr>\n",
              "  </tbody>\n",
              "</table>\n",
              "<p>100 rows × 5 columns</p>\n",
              "</div>\n",
              "      <button class=\"colab-df-convert\" onclick=\"convertToInteractive('df-ee657d39-4a0d-4555-bfb5-5158a68c68ac')\"\n",
              "              title=\"Convert this dataframe to an interactive table.\"\n",
              "              style=\"display:none;\">\n",
              "        \n",
              "  <svg xmlns=\"http://www.w3.org/2000/svg\" height=\"24px\"viewBox=\"0 0 24 24\"\n",
              "       width=\"24px\">\n",
              "    <path d=\"M0 0h24v24H0V0z\" fill=\"none\"/>\n",
              "    <path d=\"M18.56 5.44l.94 2.06.94-2.06 2.06-.94-2.06-.94-.94-2.06-.94 2.06-2.06.94zm-11 1L8.5 8.5l.94-2.06 2.06-.94-2.06-.94L8.5 2.5l-.94 2.06-2.06.94zm10 10l.94 2.06.94-2.06 2.06-.94-2.06-.94-.94-2.06-.94 2.06-2.06.94z\"/><path d=\"M17.41 7.96l-1.37-1.37c-.4-.4-.92-.59-1.43-.59-.52 0-1.04.2-1.43.59L10.3 9.45l-7.72 7.72c-.78.78-.78 2.05 0 2.83L4 21.41c.39.39.9.59 1.41.59.51 0 1.02-.2 1.41-.59l7.78-7.78 2.81-2.81c.8-.78.8-2.07 0-2.86zM5.41 20L4 18.59l7.72-7.72 1.47 1.35L5.41 20z\"/>\n",
              "  </svg>\n",
              "      </button>\n",
              "      \n",
              "  <style>\n",
              "    .colab-df-container {\n",
              "      display:flex;\n",
              "      flex-wrap:wrap;\n",
              "      gap: 12px;\n",
              "    }\n",
              "\n",
              "    .colab-df-convert {\n",
              "      background-color: #E8F0FE;\n",
              "      border: none;\n",
              "      border-radius: 50%;\n",
              "      cursor: pointer;\n",
              "      display: none;\n",
              "      fill: #1967D2;\n",
              "      height: 32px;\n",
              "      padding: 0 0 0 0;\n",
              "      width: 32px;\n",
              "    }\n",
              "\n",
              "    .colab-df-convert:hover {\n",
              "      background-color: #E2EBFA;\n",
              "      box-shadow: 0px 1px 2px rgba(60, 64, 67, 0.3), 0px 1px 3px 1px rgba(60, 64, 67, 0.15);\n",
              "      fill: #174EA6;\n",
              "    }\n",
              "\n",
              "    [theme=dark] .colab-df-convert {\n",
              "      background-color: #3B4455;\n",
              "      fill: #D2E3FC;\n",
              "    }\n",
              "\n",
              "    [theme=dark] .colab-df-convert:hover {\n",
              "      background-color: #434B5C;\n",
              "      box-shadow: 0px 1px 3px 1px rgba(0, 0, 0, 0.15);\n",
              "      filter: drop-shadow(0px 1px 2px rgba(0, 0, 0, 0.3));\n",
              "      fill: #FFFFFF;\n",
              "    }\n",
              "  </style>\n",
              "\n",
              "      <script>\n",
              "        const buttonEl =\n",
              "          document.querySelector('#df-ee657d39-4a0d-4555-bfb5-5158a68c68ac button.colab-df-convert');\n",
              "        buttonEl.style.display =\n",
              "          google.colab.kernel.accessAllowed ? 'block' : 'none';\n",
              "\n",
              "        async function convertToInteractive(key) {\n",
              "          const element = document.querySelector('#df-ee657d39-4a0d-4555-bfb5-5158a68c68ac');\n",
              "          const dataTable =\n",
              "            await google.colab.kernel.invokeFunction('convertToInteractive',\n",
              "                                                     [key], {});\n",
              "          if (!dataTable) return;\n",
              "\n",
              "          const docLinkHtml = 'Like what you see? Visit the ' +\n",
              "            '<a target=\"_blank\" href=https://colab.research.google.com/notebooks/data_table.ipynb>data table notebook</a>'\n",
              "            + ' to learn more about interactive tables.';\n",
              "          element.innerHTML = '';\n",
              "          dataTable['output_type'] = 'display_data';\n",
              "          await google.colab.output.renderOutput(dataTable, element);\n",
              "          const docLink = document.createElement('div');\n",
              "          docLink.innerHTML = docLinkHtml;\n",
              "          element.appendChild(docLink);\n",
              "        }\n",
              "      </script>\n",
              "    </div>\n",
              "  </div>\n",
              "  "
            ]
          },
          "metadata": {},
          "execution_count": 21
        }
      ]
    },
    {
      "cell_type": "code",
      "source": [
        "test_df"
      ],
      "metadata": {
        "colab": {
          "base_uri": "https://localhost:8080/",
          "height": 423
        },
        "id": "aYatBjjZDNb-",
        "outputId": "b2914c36-3f4c-4e14-ba39-511282198621"
      },
      "execution_count": 22,
      "outputs": [
        {
          "output_type": "execute_result",
          "data": {
            "text/plain": [
              "     temperature   humidity        ph    rainfall  Irrigation\n",
              "361    29.730130  82.891664  6.442336   50.915113           1\n",
              "73     23.303553  73.625484  5.873242   97.590813           0\n",
              "374    29.256493  81.979522  6.864839   42.024833           0\n",
              "155    18.153002  19.386021  5.509295  107.690796           0\n",
              "104    22.139747  23.022511  5.955617   76.641283           0\n",
              "..           ...        ...       ...         ...         ...\n",
              "347    27.108181  87.451267  6.981758   55.037240           1\n",
              "86     25.367684  72.520546  6.606984  107.912411           0\n",
              "75     24.863749  65.742005  5.714800   75.822705           0\n",
              "438    23.964360  78.027631  6.419537   84.631489           1\n",
              "15     18.254054  55.282204  6.204748   63.723582           0\n",
              "\n",
              "[100 rows x 5 columns]"
            ],
            "text/html": [
              "\n",
              "  <div id=\"df-38eea5b2-dccc-469d-8f30-83412228c1ef\">\n",
              "    <div class=\"colab-df-container\">\n",
              "      <div>\n",
              "<style scoped>\n",
              "    .dataframe tbody tr th:only-of-type {\n",
              "        vertical-align: middle;\n",
              "    }\n",
              "\n",
              "    .dataframe tbody tr th {\n",
              "        vertical-align: top;\n",
              "    }\n",
              "\n",
              "    .dataframe thead th {\n",
              "        text-align: right;\n",
              "    }\n",
              "</style>\n",
              "<table border=\"1\" class=\"dataframe\">\n",
              "  <thead>\n",
              "    <tr style=\"text-align: right;\">\n",
              "      <th></th>\n",
              "      <th>temperature</th>\n",
              "      <th>humidity</th>\n",
              "      <th>ph</th>\n",
              "      <th>rainfall</th>\n",
              "      <th>Irrigation</th>\n",
              "    </tr>\n",
              "  </thead>\n",
              "  <tbody>\n",
              "    <tr>\n",
              "      <th>361</th>\n",
              "      <td>29.730130</td>\n",
              "      <td>82.891664</td>\n",
              "      <td>6.442336</td>\n",
              "      <td>50.915113</td>\n",
              "      <td>1</td>\n",
              "    </tr>\n",
              "    <tr>\n",
              "      <th>73</th>\n",
              "      <td>23.303553</td>\n",
              "      <td>73.625484</td>\n",
              "      <td>5.873242</td>\n",
              "      <td>97.590813</td>\n",
              "      <td>0</td>\n",
              "    </tr>\n",
              "    <tr>\n",
              "      <th>374</th>\n",
              "      <td>29.256493</td>\n",
              "      <td>81.979522</td>\n",
              "      <td>6.864839</td>\n",
              "      <td>42.024833</td>\n",
              "      <td>0</td>\n",
              "    </tr>\n",
              "    <tr>\n",
              "      <th>155</th>\n",
              "      <td>18.153002</td>\n",
              "      <td>19.386021</td>\n",
              "      <td>5.509295</td>\n",
              "      <td>107.690796</td>\n",
              "      <td>0</td>\n",
              "    </tr>\n",
              "    <tr>\n",
              "      <th>104</th>\n",
              "      <td>22.139747</td>\n",
              "      <td>23.022511</td>\n",
              "      <td>5.955617</td>\n",
              "      <td>76.641283</td>\n",
              "      <td>0</td>\n",
              "    </tr>\n",
              "    <tr>\n",
              "      <th>...</th>\n",
              "      <td>...</td>\n",
              "      <td>...</td>\n",
              "      <td>...</td>\n",
              "      <td>...</td>\n",
              "      <td>...</td>\n",
              "    </tr>\n",
              "    <tr>\n",
              "      <th>347</th>\n",
              "      <td>27.108181</td>\n",
              "      <td>87.451267</td>\n",
              "      <td>6.981758</td>\n",
              "      <td>55.037240</td>\n",
              "      <td>1</td>\n",
              "    </tr>\n",
              "    <tr>\n",
              "      <th>86</th>\n",
              "      <td>25.367684</td>\n",
              "      <td>72.520546</td>\n",
              "      <td>6.606984</td>\n",
              "      <td>107.912411</td>\n",
              "      <td>0</td>\n",
              "    </tr>\n",
              "    <tr>\n",
              "      <th>75</th>\n",
              "      <td>24.863749</td>\n",
              "      <td>65.742005</td>\n",
              "      <td>5.714800</td>\n",
              "      <td>75.822705</td>\n",
              "      <td>0</td>\n",
              "    </tr>\n",
              "    <tr>\n",
              "      <th>438</th>\n",
              "      <td>23.964360</td>\n",
              "      <td>78.027631</td>\n",
              "      <td>6.419537</td>\n",
              "      <td>84.631489</td>\n",
              "      <td>1</td>\n",
              "    </tr>\n",
              "    <tr>\n",
              "      <th>15</th>\n",
              "      <td>18.254054</td>\n",
              "      <td>55.282204</td>\n",
              "      <td>6.204748</td>\n",
              "      <td>63.723582</td>\n",
              "      <td>0</td>\n",
              "    </tr>\n",
              "  </tbody>\n",
              "</table>\n",
              "<p>100 rows × 5 columns</p>\n",
              "</div>\n",
              "      <button class=\"colab-df-convert\" onclick=\"convertToInteractive('df-38eea5b2-dccc-469d-8f30-83412228c1ef')\"\n",
              "              title=\"Convert this dataframe to an interactive table.\"\n",
              "              style=\"display:none;\">\n",
              "        \n",
              "  <svg xmlns=\"http://www.w3.org/2000/svg\" height=\"24px\"viewBox=\"0 0 24 24\"\n",
              "       width=\"24px\">\n",
              "    <path d=\"M0 0h24v24H0V0z\" fill=\"none\"/>\n",
              "    <path d=\"M18.56 5.44l.94 2.06.94-2.06 2.06-.94-2.06-.94-.94-2.06-.94 2.06-2.06.94zm-11 1L8.5 8.5l.94-2.06 2.06-.94-2.06-.94L8.5 2.5l-.94 2.06-2.06.94zm10 10l.94 2.06.94-2.06 2.06-.94-2.06-.94-.94-2.06-.94 2.06-2.06.94z\"/><path d=\"M17.41 7.96l-1.37-1.37c-.4-.4-.92-.59-1.43-.59-.52 0-1.04.2-1.43.59L10.3 9.45l-7.72 7.72c-.78.78-.78 2.05 0 2.83L4 21.41c.39.39.9.59 1.41.59.51 0 1.02-.2 1.41-.59l7.78-7.78 2.81-2.81c.8-.78.8-2.07 0-2.86zM5.41 20L4 18.59l7.72-7.72 1.47 1.35L5.41 20z\"/>\n",
              "  </svg>\n",
              "      </button>\n",
              "      \n",
              "  <style>\n",
              "    .colab-df-container {\n",
              "      display:flex;\n",
              "      flex-wrap:wrap;\n",
              "      gap: 12px;\n",
              "    }\n",
              "\n",
              "    .colab-df-convert {\n",
              "      background-color: #E8F0FE;\n",
              "      border: none;\n",
              "      border-radius: 50%;\n",
              "      cursor: pointer;\n",
              "      display: none;\n",
              "      fill: #1967D2;\n",
              "      height: 32px;\n",
              "      padding: 0 0 0 0;\n",
              "      width: 32px;\n",
              "    }\n",
              "\n",
              "    .colab-df-convert:hover {\n",
              "      background-color: #E2EBFA;\n",
              "      box-shadow: 0px 1px 2px rgba(60, 64, 67, 0.3), 0px 1px 3px 1px rgba(60, 64, 67, 0.15);\n",
              "      fill: #174EA6;\n",
              "    }\n",
              "\n",
              "    [theme=dark] .colab-df-convert {\n",
              "      background-color: #3B4455;\n",
              "      fill: #D2E3FC;\n",
              "    }\n",
              "\n",
              "    [theme=dark] .colab-df-convert:hover {\n",
              "      background-color: #434B5C;\n",
              "      box-shadow: 0px 1px 3px 1px rgba(0, 0, 0, 0.15);\n",
              "      filter: drop-shadow(0px 1px 2px rgba(0, 0, 0, 0.3));\n",
              "      fill: #FFFFFF;\n",
              "    }\n",
              "  </style>\n",
              "\n",
              "      <script>\n",
              "        const buttonEl =\n",
              "          document.querySelector('#df-38eea5b2-dccc-469d-8f30-83412228c1ef button.colab-df-convert');\n",
              "        buttonEl.style.display =\n",
              "          google.colab.kernel.accessAllowed ? 'block' : 'none';\n",
              "\n",
              "        async function convertToInteractive(key) {\n",
              "          const element = document.querySelector('#df-38eea5b2-dccc-469d-8f30-83412228c1ef');\n",
              "          const dataTable =\n",
              "            await google.colab.kernel.invokeFunction('convertToInteractive',\n",
              "                                                     [key], {});\n",
              "          if (!dataTable) return;\n",
              "\n",
              "          const docLinkHtml = 'Like what you see? Visit the ' +\n",
              "            '<a target=\"_blank\" href=https://colab.research.google.com/notebooks/data_table.ipynb>data table notebook</a>'\n",
              "            + ' to learn more about interactive tables.';\n",
              "          element.innerHTML = '';\n",
              "          dataTable['output_type'] = 'display_data';\n",
              "          await google.colab.output.renderOutput(dataTable, element);\n",
              "          const docLink = document.createElement('div');\n",
              "          docLink.innerHTML = docLinkHtml;\n",
              "          element.appendChild(docLink);\n",
              "        }\n",
              "      </script>\n",
              "    </div>\n",
              "  </div>\n",
              "  "
            ]
          },
          "metadata": {},
          "execution_count": 22
        }
      ]
    },
    {
      "cell_type": "code",
      "source": [
        "input_cols = ['temperature','humidity','ph','rainfall']\n",
        "target_col = 'Irrigation'"
      ],
      "metadata": {
        "id": "dh16qVctDWjf"
      },
      "execution_count": 39,
      "outputs": []
    },
    {
      "cell_type": "code",
      "source": [
        "print(input_cols)"
      ],
      "metadata": {
        "colab": {
          "base_uri": "https://localhost:8080/"
        },
        "id": "MxCbCH6SDlHn",
        "outputId": "ef83644b-e2e4-4595-c14b-69c0e94eba53"
      },
      "execution_count": 40,
      "outputs": [
        {
          "output_type": "stream",
          "name": "stdout",
          "text": [
            "['temperature', 'humidity', 'ph', 'rainfall']\n"
          ]
        }
      ]
    },
    {
      "cell_type": "code",
      "source": [
        "target_col"
      ],
      "metadata": {
        "colab": {
          "base_uri": "https://localhost:8080/",
          "height": 36
        },
        "id": "8nn-TnuxE6-a",
        "outputId": "121f4ab6-a00f-412a-ec47-ed7882cc4e91"
      },
      "execution_count": 41,
      "outputs": [
        {
          "output_type": "execute_result",
          "data": {
            "text/plain": [
              "'Irrigation'"
            ],
            "application/vnd.google.colaboratory.intrinsic+json": {
              "type": "string"
            }
          },
          "metadata": {},
          "execution_count": 41
        }
      ]
    },
    {
      "cell_type": "code",
      "source": [
        "# creating inputs and targets for the training, validation and test sets for further processing and model training.\n",
        "train_inputs = train_df[input_cols].copy()\n",
        "train_targets = train_df[target_col].copy()"
      ],
      "metadata": {
        "id": "DsJqTQPZFBUI"
      },
      "execution_count": 45,
      "outputs": []
    },
    {
      "cell_type": "code",
      "source": [
        "val_inputs = val_df[input_cols].copy()\n",
        "val_targets = val_df[target_col].copy()"
      ],
      "metadata": {
        "id": "G_tPm0ffFJBr"
      },
      "execution_count": 46,
      "outputs": []
    },
    {
      "cell_type": "code",
      "source": [
        "test_inputs = test_df[input_cols].copy()\n",
        "test_targets = test_df[target_col].copy()"
      ],
      "metadata": {
        "id": "l3OALGVjFNHk"
      },
      "execution_count": 47,
      "outputs": []
    },
    {
      "cell_type": "code",
      "source": [
        "train_inputs"
      ],
      "metadata": {
        "colab": {
          "base_uri": "https://localhost:8080/",
          "height": 423
        },
        "id": "lDRNwFkOFZVI",
        "outputId": "07c9502f-7421-4dc1-81a7-63cb0db41607"
      },
      "execution_count": 48,
      "outputs": [
        {
          "output_type": "execute_result",
          "data": {
            "text/plain": [
              "     temperature   humidity        ph    rainfall\n",
              "421    25.668914  81.381033  6.652144   78.595958\n",
              "250    25.361405  46.826528  9.160692   55.605232\n",
              "247    30.992569  43.021514  8.034413   58.276007\n",
              "26     23.891146  57.487758  5.893093  102.830194\n",
              "198    20.934099  21.189301  5.562202  133.191442\n",
              "..           ...        ...       ...         ...\n",
              "157    23.380026  21.988794  5.744118   87.668987\n",
              "228    25.425170  53.220827  4.523636   46.193746\n",
              "27     21.535741  71.509060  5.918264  102.485293\n",
              "480    23.038879  76.470398  6.983396   90.647707\n",
              "245    30.041323  63.562230  8.620108   31.831924\n",
              "\n",
              "[300 rows x 4 columns]"
            ],
            "text/html": [
              "\n",
              "  <div id=\"df-3d33a8b3-886e-4a7c-8a34-54dcc4d14024\">\n",
              "    <div class=\"colab-df-container\">\n",
              "      <div>\n",
              "<style scoped>\n",
              "    .dataframe tbody tr th:only-of-type {\n",
              "        vertical-align: middle;\n",
              "    }\n",
              "\n",
              "    .dataframe tbody tr th {\n",
              "        vertical-align: top;\n",
              "    }\n",
              "\n",
              "    .dataframe thead th {\n",
              "        text-align: right;\n",
              "    }\n",
              "</style>\n",
              "<table border=\"1\" class=\"dataframe\">\n",
              "  <thead>\n",
              "    <tr style=\"text-align: right;\">\n",
              "      <th></th>\n",
              "      <th>temperature</th>\n",
              "      <th>humidity</th>\n",
              "      <th>ph</th>\n",
              "      <th>rainfall</th>\n",
              "    </tr>\n",
              "  </thead>\n",
              "  <tbody>\n",
              "    <tr>\n",
              "      <th>421</th>\n",
              "      <td>25.668914</td>\n",
              "      <td>81.381033</td>\n",
              "      <td>6.652144</td>\n",
              "      <td>78.595958</td>\n",
              "    </tr>\n",
              "    <tr>\n",
              "      <th>250</th>\n",
              "      <td>25.361405</td>\n",
              "      <td>46.826528</td>\n",
              "      <td>9.160692</td>\n",
              "      <td>55.605232</td>\n",
              "    </tr>\n",
              "    <tr>\n",
              "      <th>247</th>\n",
              "      <td>30.992569</td>\n",
              "      <td>43.021514</td>\n",
              "      <td>8.034413</td>\n",
              "      <td>58.276007</td>\n",
              "    </tr>\n",
              "    <tr>\n",
              "      <th>26</th>\n",
              "      <td>23.891146</td>\n",
              "      <td>57.487758</td>\n",
              "      <td>5.893093</td>\n",
              "      <td>102.830194</td>\n",
              "    </tr>\n",
              "    <tr>\n",
              "      <th>198</th>\n",
              "      <td>20.934099</td>\n",
              "      <td>21.189301</td>\n",
              "      <td>5.562202</td>\n",
              "      <td>133.191442</td>\n",
              "    </tr>\n",
              "    <tr>\n",
              "      <th>...</th>\n",
              "      <td>...</td>\n",
              "      <td>...</td>\n",
              "      <td>...</td>\n",
              "      <td>...</td>\n",
              "    </tr>\n",
              "    <tr>\n",
              "      <th>157</th>\n",
              "      <td>23.380026</td>\n",
              "      <td>21.988794</td>\n",
              "      <td>5.744118</td>\n",
              "      <td>87.668987</td>\n",
              "    </tr>\n",
              "    <tr>\n",
              "      <th>228</th>\n",
              "      <td>25.425170</td>\n",
              "      <td>53.220827</td>\n",
              "      <td>4.523636</td>\n",
              "      <td>46.193746</td>\n",
              "    </tr>\n",
              "    <tr>\n",
              "      <th>27</th>\n",
              "      <td>21.535741</td>\n",
              "      <td>71.509060</td>\n",
              "      <td>5.918264</td>\n",
              "      <td>102.485293</td>\n",
              "    </tr>\n",
              "    <tr>\n",
              "      <th>480</th>\n",
              "      <td>23.038879</td>\n",
              "      <td>76.470398</td>\n",
              "      <td>6.983396</td>\n",
              "      <td>90.647707</td>\n",
              "    </tr>\n",
              "    <tr>\n",
              "      <th>245</th>\n",
              "      <td>30.041323</td>\n",
              "      <td>63.562230</td>\n",
              "      <td>8.620108</td>\n",
              "      <td>31.831924</td>\n",
              "    </tr>\n",
              "  </tbody>\n",
              "</table>\n",
              "<p>300 rows × 4 columns</p>\n",
              "</div>\n",
              "      <button class=\"colab-df-convert\" onclick=\"convertToInteractive('df-3d33a8b3-886e-4a7c-8a34-54dcc4d14024')\"\n",
              "              title=\"Convert this dataframe to an interactive table.\"\n",
              "              style=\"display:none;\">\n",
              "        \n",
              "  <svg xmlns=\"http://www.w3.org/2000/svg\" height=\"24px\"viewBox=\"0 0 24 24\"\n",
              "       width=\"24px\">\n",
              "    <path d=\"M0 0h24v24H0V0z\" fill=\"none\"/>\n",
              "    <path d=\"M18.56 5.44l.94 2.06.94-2.06 2.06-.94-2.06-.94-.94-2.06-.94 2.06-2.06.94zm-11 1L8.5 8.5l.94-2.06 2.06-.94-2.06-.94L8.5 2.5l-.94 2.06-2.06.94zm10 10l.94 2.06.94-2.06 2.06-.94-2.06-.94-.94-2.06-.94 2.06-2.06.94z\"/><path d=\"M17.41 7.96l-1.37-1.37c-.4-.4-.92-.59-1.43-.59-.52 0-1.04.2-1.43.59L10.3 9.45l-7.72 7.72c-.78.78-.78 2.05 0 2.83L4 21.41c.39.39.9.59 1.41.59.51 0 1.02-.2 1.41-.59l7.78-7.78 2.81-2.81c.8-.78.8-2.07 0-2.86zM5.41 20L4 18.59l7.72-7.72 1.47 1.35L5.41 20z\"/>\n",
              "  </svg>\n",
              "      </button>\n",
              "      \n",
              "  <style>\n",
              "    .colab-df-container {\n",
              "      display:flex;\n",
              "      flex-wrap:wrap;\n",
              "      gap: 12px;\n",
              "    }\n",
              "\n",
              "    .colab-df-convert {\n",
              "      background-color: #E8F0FE;\n",
              "      border: none;\n",
              "      border-radius: 50%;\n",
              "      cursor: pointer;\n",
              "      display: none;\n",
              "      fill: #1967D2;\n",
              "      height: 32px;\n",
              "      padding: 0 0 0 0;\n",
              "      width: 32px;\n",
              "    }\n",
              "\n",
              "    .colab-df-convert:hover {\n",
              "      background-color: #E2EBFA;\n",
              "      box-shadow: 0px 1px 2px rgba(60, 64, 67, 0.3), 0px 1px 3px 1px rgba(60, 64, 67, 0.15);\n",
              "      fill: #174EA6;\n",
              "    }\n",
              "\n",
              "    [theme=dark] .colab-df-convert {\n",
              "      background-color: #3B4455;\n",
              "      fill: #D2E3FC;\n",
              "    }\n",
              "\n",
              "    [theme=dark] .colab-df-convert:hover {\n",
              "      background-color: #434B5C;\n",
              "      box-shadow: 0px 1px 3px 1px rgba(0, 0, 0, 0.15);\n",
              "      filter: drop-shadow(0px 1px 2px rgba(0, 0, 0, 0.3));\n",
              "      fill: #FFFFFF;\n",
              "    }\n",
              "  </style>\n",
              "\n",
              "      <script>\n",
              "        const buttonEl =\n",
              "          document.querySelector('#df-3d33a8b3-886e-4a7c-8a34-54dcc4d14024 button.colab-df-convert');\n",
              "        buttonEl.style.display =\n",
              "          google.colab.kernel.accessAllowed ? 'block' : 'none';\n",
              "\n",
              "        async function convertToInteractive(key) {\n",
              "          const element = document.querySelector('#df-3d33a8b3-886e-4a7c-8a34-54dcc4d14024');\n",
              "          const dataTable =\n",
              "            await google.colab.kernel.invokeFunction('convertToInteractive',\n",
              "                                                     [key], {});\n",
              "          if (!dataTable) return;\n",
              "\n",
              "          const docLinkHtml = 'Like what you see? Visit the ' +\n",
              "            '<a target=\"_blank\" href=https://colab.research.google.com/notebooks/data_table.ipynb>data table notebook</a>'\n",
              "            + ' to learn more about interactive tables.';\n",
              "          element.innerHTML = '';\n",
              "          dataTable['output_type'] = 'display_data';\n",
              "          await google.colab.output.renderOutput(dataTable, element);\n",
              "          const docLink = document.createElement('div');\n",
              "          docLink.innerHTML = docLinkHtml;\n",
              "          element.appendChild(docLink);\n",
              "        }\n",
              "      </script>\n",
              "    </div>\n",
              "  </div>\n",
              "  "
            ]
          },
          "metadata": {},
          "execution_count": 48
        }
      ]
    },
    {
      "cell_type": "code",
      "source": [
        "train_targets"
      ],
      "metadata": {
        "colab": {
          "base_uri": "https://localhost:8080/"
        },
        "id": "Xqyc-yxRFhLx",
        "outputId": "8e4f30f0-8be0-435f-d9b6-4dfeab86d285"
      },
      "execution_count": 49,
      "outputs": [
        {
          "output_type": "execute_result",
          "data": {
            "text/plain": [
              "421    0\n",
              "250    0\n",
              "247    0\n",
              "26     1\n",
              "198    0\n",
              "      ..\n",
              "157    0\n",
              "228    0\n",
              "27     1\n",
              "480    0\n",
              "245    1\n",
              "Name: Irrigation, Length: 300, dtype: int64"
            ]
          },
          "metadata": {},
          "execution_count": 49
        }
      ]
    },
    {
      "cell_type": "code",
      "source": [
        "#identifying numeric columns\n",
        "numeric_cols = train_inputs.select_dtypes(include=np.number).columns.tolist()"
      ],
      "metadata": {
        "id": "LsJ6Xx7EFr8l"
      },
      "execution_count": 50,
      "outputs": []
    },
    {
      "cell_type": "code",
      "source": [
        "train_inputs[numeric_cols].describe()"
      ],
      "metadata": {
        "colab": {
          "base_uri": "https://localhost:8080/",
          "height": 300
        },
        "id": "kYucRmMKGBLk",
        "outputId": "6f45a2b3-8b1d-4f53-e21c-a5c0922fd763"
      },
      "execution_count": 51,
      "outputs": [
        {
          "output_type": "execute_result",
          "data": {
            "text/plain": [
              "       temperature    humidity          ph    rainfall\n",
              "count   300.000000  300.000000  300.000000  300.000000\n",
              "mean     24.619603   60.109428    6.467804   74.937775\n",
              "std       3.946568   23.541296    1.038856   28.158148\n",
              "min      15.330426   18.092240    3.504752   30.920140\n",
              "25%      22.053474   45.719532    5.852467   53.533947\n",
              "50%      24.890514   64.748827    6.418282   70.438440\n",
              "75%      28.107889   81.137273    6.945598   91.563574\n",
              "max      31.999286   89.996156    9.935091  146.472724"
            ],
            "text/html": [
              "\n",
              "  <div id=\"df-d82b52cc-c7cb-4b52-b2ab-6eaa7abd37f7\">\n",
              "    <div class=\"colab-df-container\">\n",
              "      <div>\n",
              "<style scoped>\n",
              "    .dataframe tbody tr th:only-of-type {\n",
              "        vertical-align: middle;\n",
              "    }\n",
              "\n",
              "    .dataframe tbody tr th {\n",
              "        vertical-align: top;\n",
              "    }\n",
              "\n",
              "    .dataframe thead th {\n",
              "        text-align: right;\n",
              "    }\n",
              "</style>\n",
              "<table border=\"1\" class=\"dataframe\">\n",
              "  <thead>\n",
              "    <tr style=\"text-align: right;\">\n",
              "      <th></th>\n",
              "      <th>temperature</th>\n",
              "      <th>humidity</th>\n",
              "      <th>ph</th>\n",
              "      <th>rainfall</th>\n",
              "    </tr>\n",
              "  </thead>\n",
              "  <tbody>\n",
              "    <tr>\n",
              "      <th>count</th>\n",
              "      <td>300.000000</td>\n",
              "      <td>300.000000</td>\n",
              "      <td>300.000000</td>\n",
              "      <td>300.000000</td>\n",
              "    </tr>\n",
              "    <tr>\n",
              "      <th>mean</th>\n",
              "      <td>24.619603</td>\n",
              "      <td>60.109428</td>\n",
              "      <td>6.467804</td>\n",
              "      <td>74.937775</td>\n",
              "    </tr>\n",
              "    <tr>\n",
              "      <th>std</th>\n",
              "      <td>3.946568</td>\n",
              "      <td>23.541296</td>\n",
              "      <td>1.038856</td>\n",
              "      <td>28.158148</td>\n",
              "    </tr>\n",
              "    <tr>\n",
              "      <th>min</th>\n",
              "      <td>15.330426</td>\n",
              "      <td>18.092240</td>\n",
              "      <td>3.504752</td>\n",
              "      <td>30.920140</td>\n",
              "    </tr>\n",
              "    <tr>\n",
              "      <th>25%</th>\n",
              "      <td>22.053474</td>\n",
              "      <td>45.719532</td>\n",
              "      <td>5.852467</td>\n",
              "      <td>53.533947</td>\n",
              "    </tr>\n",
              "    <tr>\n",
              "      <th>50%</th>\n",
              "      <td>24.890514</td>\n",
              "      <td>64.748827</td>\n",
              "      <td>6.418282</td>\n",
              "      <td>70.438440</td>\n",
              "    </tr>\n",
              "    <tr>\n",
              "      <th>75%</th>\n",
              "      <td>28.107889</td>\n",
              "      <td>81.137273</td>\n",
              "      <td>6.945598</td>\n",
              "      <td>91.563574</td>\n",
              "    </tr>\n",
              "    <tr>\n",
              "      <th>max</th>\n",
              "      <td>31.999286</td>\n",
              "      <td>89.996156</td>\n",
              "      <td>9.935091</td>\n",
              "      <td>146.472724</td>\n",
              "    </tr>\n",
              "  </tbody>\n",
              "</table>\n",
              "</div>\n",
              "      <button class=\"colab-df-convert\" onclick=\"convertToInteractive('df-d82b52cc-c7cb-4b52-b2ab-6eaa7abd37f7')\"\n",
              "              title=\"Convert this dataframe to an interactive table.\"\n",
              "              style=\"display:none;\">\n",
              "        \n",
              "  <svg xmlns=\"http://www.w3.org/2000/svg\" height=\"24px\"viewBox=\"0 0 24 24\"\n",
              "       width=\"24px\">\n",
              "    <path d=\"M0 0h24v24H0V0z\" fill=\"none\"/>\n",
              "    <path d=\"M18.56 5.44l.94 2.06.94-2.06 2.06-.94-2.06-.94-.94-2.06-.94 2.06-2.06.94zm-11 1L8.5 8.5l.94-2.06 2.06-.94-2.06-.94L8.5 2.5l-.94 2.06-2.06.94zm10 10l.94 2.06.94-2.06 2.06-.94-2.06-.94-.94-2.06-.94 2.06-2.06.94z\"/><path d=\"M17.41 7.96l-1.37-1.37c-.4-.4-.92-.59-1.43-.59-.52 0-1.04.2-1.43.59L10.3 9.45l-7.72 7.72c-.78.78-.78 2.05 0 2.83L4 21.41c.39.39.9.59 1.41.59.51 0 1.02-.2 1.41-.59l7.78-7.78 2.81-2.81c.8-.78.8-2.07 0-2.86zM5.41 20L4 18.59l7.72-7.72 1.47 1.35L5.41 20z\"/>\n",
              "  </svg>\n",
              "      </button>\n",
              "      \n",
              "  <style>\n",
              "    .colab-df-container {\n",
              "      display:flex;\n",
              "      flex-wrap:wrap;\n",
              "      gap: 12px;\n",
              "    }\n",
              "\n",
              "    .colab-df-convert {\n",
              "      background-color: #E8F0FE;\n",
              "      border: none;\n",
              "      border-radius: 50%;\n",
              "      cursor: pointer;\n",
              "      display: none;\n",
              "      fill: #1967D2;\n",
              "      height: 32px;\n",
              "      padding: 0 0 0 0;\n",
              "      width: 32px;\n",
              "    }\n",
              "\n",
              "    .colab-df-convert:hover {\n",
              "      background-color: #E2EBFA;\n",
              "      box-shadow: 0px 1px 2px rgba(60, 64, 67, 0.3), 0px 1px 3px 1px rgba(60, 64, 67, 0.15);\n",
              "      fill: #174EA6;\n",
              "    }\n",
              "\n",
              "    [theme=dark] .colab-df-convert {\n",
              "      background-color: #3B4455;\n",
              "      fill: #D2E3FC;\n",
              "    }\n",
              "\n",
              "    [theme=dark] .colab-df-convert:hover {\n",
              "      background-color: #434B5C;\n",
              "      box-shadow: 0px 1px 3px 1px rgba(0, 0, 0, 0.15);\n",
              "      filter: drop-shadow(0px 1px 2px rgba(0, 0, 0, 0.3));\n",
              "      fill: #FFFFFF;\n",
              "    }\n",
              "  </style>\n",
              "\n",
              "      <script>\n",
              "        const buttonEl =\n",
              "          document.querySelector('#df-d82b52cc-c7cb-4b52-b2ab-6eaa7abd37f7 button.colab-df-convert');\n",
              "        buttonEl.style.display =\n",
              "          google.colab.kernel.accessAllowed ? 'block' : 'none';\n",
              "\n",
              "        async function convertToInteractive(key) {\n",
              "          const element = document.querySelector('#df-d82b52cc-c7cb-4b52-b2ab-6eaa7abd37f7');\n",
              "          const dataTable =\n",
              "            await google.colab.kernel.invokeFunction('convertToInteractive',\n",
              "                                                     [key], {});\n",
              "          if (!dataTable) return;\n",
              "\n",
              "          const docLinkHtml = 'Like what you see? Visit the ' +\n",
              "            '<a target=\"_blank\" href=https://colab.research.google.com/notebooks/data_table.ipynb>data table notebook</a>'\n",
              "            + ' to learn more about interactive tables.';\n",
              "          element.innerHTML = '';\n",
              "          dataTable['output_type'] = 'display_data';\n",
              "          await google.colab.output.renderOutput(dataTable, element);\n",
              "          const docLink = document.createElement('div');\n",
              "          docLink.innerHTML = docLinkHtml;\n",
              "          element.appendChild(docLink);\n",
              "        }\n",
              "      </script>\n",
              "    </div>\n",
              "  </div>\n",
              "  "
            ]
          },
          "metadata": {},
          "execution_count": 51
        }
      ]
    },
    {
      "cell_type": "code",
      "source": [
        "#scaling numeric features\n",
        "df[numeric_cols].describe()"
      ],
      "metadata": {
        "colab": {
          "base_uri": "https://localhost:8080/",
          "height": 300
        },
        "id": "e_cvAk76GKNg",
        "outputId": "105d792a-0f0b-4cc5-89e0-1ff4415ecfa4"
      },
      "execution_count": 53,
      "outputs": [
        {
          "output_type": "execute_result",
          "data": {
            "text/plain": [
              "       temperature    humidity          ph    rainfall\n",
              "count   500.000000  500.000000  500.000000  500.000000\n",
              "mean     24.642788   61.040295    6.492481   74.137379\n",
              "std       3.859004   23.197340    1.006127   26.961136\n",
              "min      15.330426   18.092240    3.504752   30.920140\n",
              "25%      22.144389   46.726630    5.833708   53.422341\n",
              "50%      24.866824   65.303845    6.420404   70.018827\n",
              "75%      27.963227   81.542711    6.979240   90.954581\n",
              "max      31.999286   89.996156    9.935091  149.744103"
            ],
            "text/html": [
              "\n",
              "  <div id=\"df-e301c113-6c60-4bd9-8f32-72b3c535b629\">\n",
              "    <div class=\"colab-df-container\">\n",
              "      <div>\n",
              "<style scoped>\n",
              "    .dataframe tbody tr th:only-of-type {\n",
              "        vertical-align: middle;\n",
              "    }\n",
              "\n",
              "    .dataframe tbody tr th {\n",
              "        vertical-align: top;\n",
              "    }\n",
              "\n",
              "    .dataframe thead th {\n",
              "        text-align: right;\n",
              "    }\n",
              "</style>\n",
              "<table border=\"1\" class=\"dataframe\">\n",
              "  <thead>\n",
              "    <tr style=\"text-align: right;\">\n",
              "      <th></th>\n",
              "      <th>temperature</th>\n",
              "      <th>humidity</th>\n",
              "      <th>ph</th>\n",
              "      <th>rainfall</th>\n",
              "    </tr>\n",
              "  </thead>\n",
              "  <tbody>\n",
              "    <tr>\n",
              "      <th>count</th>\n",
              "      <td>500.000000</td>\n",
              "      <td>500.000000</td>\n",
              "      <td>500.000000</td>\n",
              "      <td>500.000000</td>\n",
              "    </tr>\n",
              "    <tr>\n",
              "      <th>mean</th>\n",
              "      <td>24.642788</td>\n",
              "      <td>61.040295</td>\n",
              "      <td>6.492481</td>\n",
              "      <td>74.137379</td>\n",
              "    </tr>\n",
              "    <tr>\n",
              "      <th>std</th>\n",
              "      <td>3.859004</td>\n",
              "      <td>23.197340</td>\n",
              "      <td>1.006127</td>\n",
              "      <td>26.961136</td>\n",
              "    </tr>\n",
              "    <tr>\n",
              "      <th>min</th>\n",
              "      <td>15.330426</td>\n",
              "      <td>18.092240</td>\n",
              "      <td>3.504752</td>\n",
              "      <td>30.920140</td>\n",
              "    </tr>\n",
              "    <tr>\n",
              "      <th>25%</th>\n",
              "      <td>22.144389</td>\n",
              "      <td>46.726630</td>\n",
              "      <td>5.833708</td>\n",
              "      <td>53.422341</td>\n",
              "    </tr>\n",
              "    <tr>\n",
              "      <th>50%</th>\n",
              "      <td>24.866824</td>\n",
              "      <td>65.303845</td>\n",
              "      <td>6.420404</td>\n",
              "      <td>70.018827</td>\n",
              "    </tr>\n",
              "    <tr>\n",
              "      <th>75%</th>\n",
              "      <td>27.963227</td>\n",
              "      <td>81.542711</td>\n",
              "      <td>6.979240</td>\n",
              "      <td>90.954581</td>\n",
              "    </tr>\n",
              "    <tr>\n",
              "      <th>max</th>\n",
              "      <td>31.999286</td>\n",
              "      <td>89.996156</td>\n",
              "      <td>9.935091</td>\n",
              "      <td>149.744103</td>\n",
              "    </tr>\n",
              "  </tbody>\n",
              "</table>\n",
              "</div>\n",
              "      <button class=\"colab-df-convert\" onclick=\"convertToInteractive('df-e301c113-6c60-4bd9-8f32-72b3c535b629')\"\n",
              "              title=\"Convert this dataframe to an interactive table.\"\n",
              "              style=\"display:none;\">\n",
              "        \n",
              "  <svg xmlns=\"http://www.w3.org/2000/svg\" height=\"24px\"viewBox=\"0 0 24 24\"\n",
              "       width=\"24px\">\n",
              "    <path d=\"M0 0h24v24H0V0z\" fill=\"none\"/>\n",
              "    <path d=\"M18.56 5.44l.94 2.06.94-2.06 2.06-.94-2.06-.94-.94-2.06-.94 2.06-2.06.94zm-11 1L8.5 8.5l.94-2.06 2.06-.94-2.06-.94L8.5 2.5l-.94 2.06-2.06.94zm10 10l.94 2.06.94-2.06 2.06-.94-2.06-.94-.94-2.06-.94 2.06-2.06.94z\"/><path d=\"M17.41 7.96l-1.37-1.37c-.4-.4-.92-.59-1.43-.59-.52 0-1.04.2-1.43.59L10.3 9.45l-7.72 7.72c-.78.78-.78 2.05 0 2.83L4 21.41c.39.39.9.59 1.41.59.51 0 1.02-.2 1.41-.59l7.78-7.78 2.81-2.81c.8-.78.8-2.07 0-2.86zM5.41 20L4 18.59l7.72-7.72 1.47 1.35L5.41 20z\"/>\n",
              "  </svg>\n",
              "      </button>\n",
              "      \n",
              "  <style>\n",
              "    .colab-df-container {\n",
              "      display:flex;\n",
              "      flex-wrap:wrap;\n",
              "      gap: 12px;\n",
              "    }\n",
              "\n",
              "    .colab-df-convert {\n",
              "      background-color: #E8F0FE;\n",
              "      border: none;\n",
              "      border-radius: 50%;\n",
              "      cursor: pointer;\n",
              "      display: none;\n",
              "      fill: #1967D2;\n",
              "      height: 32px;\n",
              "      padding: 0 0 0 0;\n",
              "      width: 32px;\n",
              "    }\n",
              "\n",
              "    .colab-df-convert:hover {\n",
              "      background-color: #E2EBFA;\n",
              "      box-shadow: 0px 1px 2px rgba(60, 64, 67, 0.3), 0px 1px 3px 1px rgba(60, 64, 67, 0.15);\n",
              "      fill: #174EA6;\n",
              "    }\n",
              "\n",
              "    [theme=dark] .colab-df-convert {\n",
              "      background-color: #3B4455;\n",
              "      fill: #D2E3FC;\n",
              "    }\n",
              "\n",
              "    [theme=dark] .colab-df-convert:hover {\n",
              "      background-color: #434B5C;\n",
              "      box-shadow: 0px 1px 3px 1px rgba(0, 0, 0, 0.15);\n",
              "      filter: drop-shadow(0px 1px 2px rgba(0, 0, 0, 0.3));\n",
              "      fill: #FFFFFF;\n",
              "    }\n",
              "  </style>\n",
              "\n",
              "      <script>\n",
              "        const buttonEl =\n",
              "          document.querySelector('#df-e301c113-6c60-4bd9-8f32-72b3c535b629 button.colab-df-convert');\n",
              "        buttonEl.style.display =\n",
              "          google.colab.kernel.accessAllowed ? 'block' : 'none';\n",
              "\n",
              "        async function convertToInteractive(key) {\n",
              "          const element = document.querySelector('#df-e301c113-6c60-4bd9-8f32-72b3c535b629');\n",
              "          const dataTable =\n",
              "            await google.colab.kernel.invokeFunction('convertToInteractive',\n",
              "                                                     [key], {});\n",
              "          if (!dataTable) return;\n",
              "\n",
              "          const docLinkHtml = 'Like what you see? Visit the ' +\n",
              "            '<a target=\"_blank\" href=https://colab.research.google.com/notebooks/data_table.ipynb>data table notebook</a>'\n",
              "            + ' to learn more about interactive tables.';\n",
              "          element.innerHTML = '';\n",
              "          dataTable['output_type'] = 'display_data';\n",
              "          await google.colab.output.renderOutput(dataTable, element);\n",
              "          const docLink = document.createElement('div');\n",
              "          docLink.innerHTML = docLinkHtml;\n",
              "          element.appendChild(docLink);\n",
              "        }\n",
              "      </script>\n",
              "    </div>\n",
              "  </div>\n",
              "  "
            ]
          },
          "metadata": {},
          "execution_count": 53
        }
      ]
    },
    {
      "cell_type": "code",
      "source": [
        "#Using MinMaxScaler from sklearn.preprocessing to scale values to the  (0,1)  range.\n",
        "from sklearn.preprocessing import MinMaxScaler"
      ],
      "metadata": {
        "id": "Dy-FkuQaGg2z"
      },
      "execution_count": 54,
      "outputs": []
    },
    {
      "cell_type": "code",
      "source": [
        "?MinMaxScaler"
      ],
      "metadata": {
        "id": "tZ6weMb4Gs_E"
      },
      "execution_count": 55,
      "outputs": []
    },
    {
      "cell_type": "code",
      "source": [
        "scaler = MinMaxScaler()"
      ],
      "metadata": {
        "id": "8fkZRV6BHA6j"
      },
      "execution_count": 57,
      "outputs": []
    },
    {
      "cell_type": "code",
      "source": [
        "scaler.fit(df[numeric_cols])"
      ],
      "metadata": {
        "colab": {
          "base_uri": "https://localhost:8080/"
        },
        "id": "VXfDXlbVHGE8",
        "outputId": "447d4183-8d22-4f5e-b89d-26a9870b49bd"
      },
      "execution_count": 59,
      "outputs": [
        {
          "output_type": "execute_result",
          "data": {
            "text/plain": [
              "MinMaxScaler()"
            ]
          },
          "metadata": {},
          "execution_count": 59
        }
      ]
    },
    {
      "cell_type": "code",
      "source": [
        "print('Minimum:')\n",
        "list(scaler.data_min_)"
      ],
      "metadata": {
        "colab": {
          "base_uri": "https://localhost:8080/"
        },
        "id": "6dsMJd60G3iy",
        "outputId": "ea13bc1d-5655-439e-fac2-850a53c647ab"
      },
      "execution_count": 60,
      "outputs": [
        {
          "output_type": "stream",
          "name": "stdout",
          "text": [
            "Minimum:\n"
          ]
        },
        {
          "output_type": "execute_result",
          "data": {
            "text/plain": [
              "[15.33042636, 18.09224048, 3.504752314, 30.92014047]"
            ]
          },
          "metadata": {},
          "execution_count": 60
        }
      ]
    },
    {
      "cell_type": "code",
      "source": [
        "print('Maximum:')\n",
        "list(scaler.data_max_)"
      ],
      "metadata": {
        "colab": {
          "base_uri": "https://localhost:8080/"
        },
        "id": "8xtNW3ZbHRKA",
        "outputId": "62ac3a52-dce7-4647-f128-c7353b2503a0"
      },
      "execution_count": 61,
      "outputs": [
        {
          "output_type": "stream",
          "name": "stdout",
          "text": [
            "Maximum:\n"
          ]
        },
        {
          "output_type": "execute_result",
          "data": {
            "text/plain": [
              "[31.99928579, 89.99615558, 9.93509073, 149.7441028]"
            ]
          },
          "metadata": {},
          "execution_count": 61
        }
      ]
    },
    {
      "cell_type": "code",
      "source": [
        "#We can now separately scale the training, validation and test sets using the transform method of scaler\n",
        "train_inputs[numeric_cols] = scaler.transform(train_inputs[numeric_cols])\n",
        "val_inputs[numeric_cols] = scaler.transform(val_inputs[numeric_cols])\n",
        "test_inputs[numeric_cols] = scaler.transform(test_inputs[numeric_cols])"
      ],
      "metadata": {
        "id": "qUhdNp3MHXmm"
      },
      "execution_count": 62,
      "outputs": []
    },
    {
      "cell_type": "code",
      "source": [
        "#Verifying that values in each column lie in the range  (0,1)\n",
        "train_inputs[numeric_cols].describe()"
      ],
      "metadata": {
        "colab": {
          "base_uri": "https://localhost:8080/",
          "height": 300
        },
        "id": "o4jQaiyIHlMM",
        "outputId": "e4d80606-5e58-4358-ccfb-8783650dee52"
      },
      "execution_count": 63,
      "outputs": [
        {
          "output_type": "execute_result",
          "data": {
            "text/plain": [
              "       temperature    humidity          ph    rainfall\n",
              "count   300.000000  300.000000  300.000000  300.000000\n",
              "mean      0.557277    0.584352    0.460792    0.370444\n",
              "std       0.236763    0.327399    0.161555    0.236974\n",
              "min       0.000000    0.000000    0.000000    0.000000\n",
              "25%       0.403330    0.384225    0.365100    0.190314\n",
              "50%       0.573530    0.648874    0.453091    0.332579\n",
              "75%       0.766547    0.876796    0.535096    0.510364\n",
              "max       1.000000    1.000000    1.000000    0.972469"
            ],
            "text/html": [
              "\n",
              "  <div id=\"df-4f62325d-2dd5-44c6-a985-cac296f4e617\">\n",
              "    <div class=\"colab-df-container\">\n",
              "      <div>\n",
              "<style scoped>\n",
              "    .dataframe tbody tr th:only-of-type {\n",
              "        vertical-align: middle;\n",
              "    }\n",
              "\n",
              "    .dataframe tbody tr th {\n",
              "        vertical-align: top;\n",
              "    }\n",
              "\n",
              "    .dataframe thead th {\n",
              "        text-align: right;\n",
              "    }\n",
              "</style>\n",
              "<table border=\"1\" class=\"dataframe\">\n",
              "  <thead>\n",
              "    <tr style=\"text-align: right;\">\n",
              "      <th></th>\n",
              "      <th>temperature</th>\n",
              "      <th>humidity</th>\n",
              "      <th>ph</th>\n",
              "      <th>rainfall</th>\n",
              "    </tr>\n",
              "  </thead>\n",
              "  <tbody>\n",
              "    <tr>\n",
              "      <th>count</th>\n",
              "      <td>300.000000</td>\n",
              "      <td>300.000000</td>\n",
              "      <td>300.000000</td>\n",
              "      <td>300.000000</td>\n",
              "    </tr>\n",
              "    <tr>\n",
              "      <th>mean</th>\n",
              "      <td>0.557277</td>\n",
              "      <td>0.584352</td>\n",
              "      <td>0.460792</td>\n",
              "      <td>0.370444</td>\n",
              "    </tr>\n",
              "    <tr>\n",
              "      <th>std</th>\n",
              "      <td>0.236763</td>\n",
              "      <td>0.327399</td>\n",
              "      <td>0.161555</td>\n",
              "      <td>0.236974</td>\n",
              "    </tr>\n",
              "    <tr>\n",
              "      <th>min</th>\n",
              "      <td>0.000000</td>\n",
              "      <td>0.000000</td>\n",
              "      <td>0.000000</td>\n",
              "      <td>0.000000</td>\n",
              "    </tr>\n",
              "    <tr>\n",
              "      <th>25%</th>\n",
              "      <td>0.403330</td>\n",
              "      <td>0.384225</td>\n",
              "      <td>0.365100</td>\n",
              "      <td>0.190314</td>\n",
              "    </tr>\n",
              "    <tr>\n",
              "      <th>50%</th>\n",
              "      <td>0.573530</td>\n",
              "      <td>0.648874</td>\n",
              "      <td>0.453091</td>\n",
              "      <td>0.332579</td>\n",
              "    </tr>\n",
              "    <tr>\n",
              "      <th>75%</th>\n",
              "      <td>0.766547</td>\n",
              "      <td>0.876796</td>\n",
              "      <td>0.535096</td>\n",
              "      <td>0.510364</td>\n",
              "    </tr>\n",
              "    <tr>\n",
              "      <th>max</th>\n",
              "      <td>1.000000</td>\n",
              "      <td>1.000000</td>\n",
              "      <td>1.000000</td>\n",
              "      <td>0.972469</td>\n",
              "    </tr>\n",
              "  </tbody>\n",
              "</table>\n",
              "</div>\n",
              "      <button class=\"colab-df-convert\" onclick=\"convertToInteractive('df-4f62325d-2dd5-44c6-a985-cac296f4e617')\"\n",
              "              title=\"Convert this dataframe to an interactive table.\"\n",
              "              style=\"display:none;\">\n",
              "        \n",
              "  <svg xmlns=\"http://www.w3.org/2000/svg\" height=\"24px\"viewBox=\"0 0 24 24\"\n",
              "       width=\"24px\">\n",
              "    <path d=\"M0 0h24v24H0V0z\" fill=\"none\"/>\n",
              "    <path d=\"M18.56 5.44l.94 2.06.94-2.06 2.06-.94-2.06-.94-.94-2.06-.94 2.06-2.06.94zm-11 1L8.5 8.5l.94-2.06 2.06-.94-2.06-.94L8.5 2.5l-.94 2.06-2.06.94zm10 10l.94 2.06.94-2.06 2.06-.94-2.06-.94-.94-2.06-.94 2.06-2.06.94z\"/><path d=\"M17.41 7.96l-1.37-1.37c-.4-.4-.92-.59-1.43-.59-.52 0-1.04.2-1.43.59L10.3 9.45l-7.72 7.72c-.78.78-.78 2.05 0 2.83L4 21.41c.39.39.9.59 1.41.59.51 0 1.02-.2 1.41-.59l7.78-7.78 2.81-2.81c.8-.78.8-2.07 0-2.86zM5.41 20L4 18.59l7.72-7.72 1.47 1.35L5.41 20z\"/>\n",
              "  </svg>\n",
              "      </button>\n",
              "      \n",
              "  <style>\n",
              "    .colab-df-container {\n",
              "      display:flex;\n",
              "      flex-wrap:wrap;\n",
              "      gap: 12px;\n",
              "    }\n",
              "\n",
              "    .colab-df-convert {\n",
              "      background-color: #E8F0FE;\n",
              "      border: none;\n",
              "      border-radius: 50%;\n",
              "      cursor: pointer;\n",
              "      display: none;\n",
              "      fill: #1967D2;\n",
              "      height: 32px;\n",
              "      padding: 0 0 0 0;\n",
              "      width: 32px;\n",
              "    }\n",
              "\n",
              "    .colab-df-convert:hover {\n",
              "      background-color: #E2EBFA;\n",
              "      box-shadow: 0px 1px 2px rgba(60, 64, 67, 0.3), 0px 1px 3px 1px rgba(60, 64, 67, 0.15);\n",
              "      fill: #174EA6;\n",
              "    }\n",
              "\n",
              "    [theme=dark] .colab-df-convert {\n",
              "      background-color: #3B4455;\n",
              "      fill: #D2E3FC;\n",
              "    }\n",
              "\n",
              "    [theme=dark] .colab-df-convert:hover {\n",
              "      background-color: #434B5C;\n",
              "      box-shadow: 0px 1px 3px 1px rgba(0, 0, 0, 0.15);\n",
              "      filter: drop-shadow(0px 1px 2px rgba(0, 0, 0, 0.3));\n",
              "      fill: #FFFFFF;\n",
              "    }\n",
              "  </style>\n",
              "\n",
              "      <script>\n",
              "        const buttonEl =\n",
              "          document.querySelector('#df-4f62325d-2dd5-44c6-a985-cac296f4e617 button.colab-df-convert');\n",
              "        buttonEl.style.display =\n",
              "          google.colab.kernel.accessAllowed ? 'block' : 'none';\n",
              "\n",
              "        async function convertToInteractive(key) {\n",
              "          const element = document.querySelector('#df-4f62325d-2dd5-44c6-a985-cac296f4e617');\n",
              "          const dataTable =\n",
              "            await google.colab.kernel.invokeFunction('convertToInteractive',\n",
              "                                                     [key], {});\n",
              "          if (!dataTable) return;\n",
              "\n",
              "          const docLinkHtml = 'Like what you see? Visit the ' +\n",
              "            '<a target=\"_blank\" href=https://colab.research.google.com/notebooks/data_table.ipynb>data table notebook</a>'\n",
              "            + ' to learn more about interactive tables.';\n",
              "          element.innerHTML = '';\n",
              "          dataTable['output_type'] = 'display_data';\n",
              "          await google.colab.output.renderOutput(dataTable, element);\n",
              "          const docLink = document.createElement('div');\n",
              "          docLink.innerHTML = docLinkHtml;\n",
              "          element.appendChild(docLink);\n",
              "        }\n",
              "      </script>\n",
              "    </div>\n",
              "  </div>\n",
              "  "
            ]
          },
          "metadata": {},
          "execution_count": 63
        }
      ]
    },
    {
      "cell_type": "code",
      "source": [
        "# To avoid repeating the preprocessing steps every time you start the Jupyter notebook. The parquet format is a fast and efficient format for saving and loading Pandas dataframes.\n",
        "print('train_inputs:', train_inputs.shape)\n",
        "print('train_targets:', train_targets.shape)\n",
        "print('val_inputs:', val_inputs.shape)\n",
        "print('val_targets:', val_targets.shape)\n",
        "print('test_inputs:', test_inputs.shape)\n",
        "print('test_targets:', test_targets.shape)"
      ],
      "metadata": {
        "colab": {
          "base_uri": "https://localhost:8080/"
        },
        "id": "gkQHni23Hzxp",
        "outputId": "a21c9d72-a558-4a9b-c5b5-d588e88ec3e8"
      },
      "execution_count": 67,
      "outputs": [
        {
          "output_type": "stream",
          "name": "stdout",
          "text": [
            "train_inputs: (300, 4)\n",
            "train_targets: (300,)\n",
            "val_inputs: (100, 4)\n",
            "val_targets: (100,)\n",
            "test_inputs: (100, 4)\n",
            "test_targets: (100,)\n"
          ]
        }
      ]
    },
    {
      "cell_type": "code",
      "source": [
        "!pip install pyarrow --quiet"
      ],
      "metadata": {
        "id": "rx6siUYwIIOq"
      },
      "execution_count": 68,
      "outputs": []
    },
    {
      "cell_type": "code",
      "source": [
        "train_inputs.to_parquet('train_inputs.parquet')\n",
        "val_inputs.to_parquet('val_inputs.parquet')\n",
        "test_inputs.to_parquet('test_inputs.parquet')"
      ],
      "metadata": {
        "id": "eobIk2UrIOaf"
      },
      "execution_count": 69,
      "outputs": []
    },
    {
      "cell_type": "code",
      "source": [
        "%%time\n",
        "pd.DataFrame(train_targets).to_parquet('train_targets.parquet')\n",
        "pd.DataFrame(val_targets).to_parquet('val_targets.parquet')\n",
        "pd.DataFrame(test_targets).to_parquet('test_targets.parquet')"
      ],
      "metadata": {
        "colab": {
          "base_uri": "https://localhost:8080/"
        },
        "id": "X5W9h9FUIc7W",
        "outputId": "4364eac9-c49c-4b16-ad02-f0925d1bff37"
      },
      "execution_count": 70,
      "outputs": [
        {
          "output_type": "stream",
          "name": "stdout",
          "text": [
            "CPU times: user 10.7 ms, sys: 0 ns, total: 10.7 ms\n",
            "Wall time: 11.6 ms\n"
          ]
        }
      ]
    },
    {
      "cell_type": "code",
      "source": [
        "# Reading the data back using pd.read_parquet\n",
        "%%time\n",
        "\n",
        "train_inputs = pd.read_parquet('train_inputs.parquet')\n",
        "val_inputs = pd.read_parquet('val_inputs.parquet')\n",
        "test_inputs = pd.read_parquet('test_inputs.parquet')\n",
        "\n",
        "train_targets = pd.read_parquet('train_targets.parquet')[target_col]\n",
        "val_targets = pd.read_parquet('val_targets.parquet')[target_col]\n",
        "test_targets = pd.read_parquet('test_targets.parquet')[target_col]"
      ],
      "metadata": {
        "colab": {
          "base_uri": "https://localhost:8080/"
        },
        "id": "hwaEKC5yIsad",
        "outputId": "cfddce30-f203-4e7c-f888-c037503ed8c2"
      },
      "execution_count": 71,
      "outputs": [
        {
          "output_type": "stream",
          "name": "stdout",
          "text": [
            "CPU times: user 32.3 ms, sys: 6.99 ms, total: 39.3 ms\n",
            "Wall time: 83.1 ms\n"
          ]
        }
      ]
    },
    {
      "cell_type": "code",
      "source": [
        "#Verifying that the data was loaded properly\n",
        "print('train_inputs:', train_inputs.shape)\n",
        "print('train_targets:', train_targets.shape)\n",
        "print('val_inputs:', val_inputs.shape)\n",
        "print('val_targets:', val_targets.shape)\n",
        "print('test_inputs:', test_inputs.shape)\n",
        "print('test_targets:', test_targets.shape)"
      ],
      "metadata": {
        "colab": {
          "base_uri": "https://localhost:8080/"
        },
        "id": "oIqovjRKI5yZ",
        "outputId": "70475dc1-4c7c-485d-9325-3d7ab611c4d1"
      },
      "execution_count": 72,
      "outputs": [
        {
          "output_type": "stream",
          "name": "stdout",
          "text": [
            "train_inputs: (300, 4)\n",
            "train_targets: (300,)\n",
            "val_inputs: (100, 4)\n",
            "val_targets: (100,)\n",
            "test_inputs: (100, 4)\n",
            "test_targets: (100,)\n"
          ]
        }
      ]
    },
    {
      "cell_type": "code",
      "source": [
        "val_inputs"
      ],
      "metadata": {
        "colab": {
          "base_uri": "https://localhost:8080/",
          "height": 423
        },
        "id": "mFNSO3suJEne",
        "outputId": "83b0c3b9-abdd-46d0-910e-52c162794184"
      },
      "execution_count": 73,
      "outputs": [
        {
          "output_type": "execute_result",
          "data": {
            "text/plain": [
              "     temperature  humidity        ph  rainfall\n",
              "120     0.319358  0.069720  0.382994  0.309681\n",
              "128     0.139845  0.000845  0.331317  0.587012\n",
              "271     0.679285  0.579913  0.629102  0.050481\n",
              "349     0.840821  0.938926  0.424252  0.236620\n",
              "272     0.772020  0.492511  0.809373  0.178547\n",
              "..           ...       ...       ...       ...\n",
              "190     0.042430  0.058964  0.384359  0.837120\n",
              "385     0.723203  0.981510  0.497333  0.230418\n",
              "130     0.550897  0.037870  0.336734  0.280035\n",
              "95      0.215857  0.760857  0.412748  0.432754\n",
              "175     0.054849  0.045418  0.324548  0.303393\n",
              "\n",
              "[100 rows x 4 columns]"
            ],
            "text/html": [
              "\n",
              "  <div id=\"df-b468d847-b297-4816-829a-b06995042377\">\n",
              "    <div class=\"colab-df-container\">\n",
              "      <div>\n",
              "<style scoped>\n",
              "    .dataframe tbody tr th:only-of-type {\n",
              "        vertical-align: middle;\n",
              "    }\n",
              "\n",
              "    .dataframe tbody tr th {\n",
              "        vertical-align: top;\n",
              "    }\n",
              "\n",
              "    .dataframe thead th {\n",
              "        text-align: right;\n",
              "    }\n",
              "</style>\n",
              "<table border=\"1\" class=\"dataframe\">\n",
              "  <thead>\n",
              "    <tr style=\"text-align: right;\">\n",
              "      <th></th>\n",
              "      <th>temperature</th>\n",
              "      <th>humidity</th>\n",
              "      <th>ph</th>\n",
              "      <th>rainfall</th>\n",
              "    </tr>\n",
              "  </thead>\n",
              "  <tbody>\n",
              "    <tr>\n",
              "      <th>120</th>\n",
              "      <td>0.319358</td>\n",
              "      <td>0.069720</td>\n",
              "      <td>0.382994</td>\n",
              "      <td>0.309681</td>\n",
              "    </tr>\n",
              "    <tr>\n",
              "      <th>128</th>\n",
              "      <td>0.139845</td>\n",
              "      <td>0.000845</td>\n",
              "      <td>0.331317</td>\n",
              "      <td>0.587012</td>\n",
              "    </tr>\n",
              "    <tr>\n",
              "      <th>271</th>\n",
              "      <td>0.679285</td>\n",
              "      <td>0.579913</td>\n",
              "      <td>0.629102</td>\n",
              "      <td>0.050481</td>\n",
              "    </tr>\n",
              "    <tr>\n",
              "      <th>349</th>\n",
              "      <td>0.840821</td>\n",
              "      <td>0.938926</td>\n",
              "      <td>0.424252</td>\n",
              "      <td>0.236620</td>\n",
              "    </tr>\n",
              "    <tr>\n",
              "      <th>272</th>\n",
              "      <td>0.772020</td>\n",
              "      <td>0.492511</td>\n",
              "      <td>0.809373</td>\n",
              "      <td>0.178547</td>\n",
              "    </tr>\n",
              "    <tr>\n",
              "      <th>...</th>\n",
              "      <td>...</td>\n",
              "      <td>...</td>\n",
              "      <td>...</td>\n",
              "      <td>...</td>\n",
              "    </tr>\n",
              "    <tr>\n",
              "      <th>190</th>\n",
              "      <td>0.042430</td>\n",
              "      <td>0.058964</td>\n",
              "      <td>0.384359</td>\n",
              "      <td>0.837120</td>\n",
              "    </tr>\n",
              "    <tr>\n",
              "      <th>385</th>\n",
              "      <td>0.723203</td>\n",
              "      <td>0.981510</td>\n",
              "      <td>0.497333</td>\n",
              "      <td>0.230418</td>\n",
              "    </tr>\n",
              "    <tr>\n",
              "      <th>130</th>\n",
              "      <td>0.550897</td>\n",
              "      <td>0.037870</td>\n",
              "      <td>0.336734</td>\n",
              "      <td>0.280035</td>\n",
              "    </tr>\n",
              "    <tr>\n",
              "      <th>95</th>\n",
              "      <td>0.215857</td>\n",
              "      <td>0.760857</td>\n",
              "      <td>0.412748</td>\n",
              "      <td>0.432754</td>\n",
              "    </tr>\n",
              "    <tr>\n",
              "      <th>175</th>\n",
              "      <td>0.054849</td>\n",
              "      <td>0.045418</td>\n",
              "      <td>0.324548</td>\n",
              "      <td>0.303393</td>\n",
              "    </tr>\n",
              "  </tbody>\n",
              "</table>\n",
              "<p>100 rows × 4 columns</p>\n",
              "</div>\n",
              "      <button class=\"colab-df-convert\" onclick=\"convertToInteractive('df-b468d847-b297-4816-829a-b06995042377')\"\n",
              "              title=\"Convert this dataframe to an interactive table.\"\n",
              "              style=\"display:none;\">\n",
              "        \n",
              "  <svg xmlns=\"http://www.w3.org/2000/svg\" height=\"24px\"viewBox=\"0 0 24 24\"\n",
              "       width=\"24px\">\n",
              "    <path d=\"M0 0h24v24H0V0z\" fill=\"none\"/>\n",
              "    <path d=\"M18.56 5.44l.94 2.06.94-2.06 2.06-.94-2.06-.94-.94-2.06-.94 2.06-2.06.94zm-11 1L8.5 8.5l.94-2.06 2.06-.94-2.06-.94L8.5 2.5l-.94 2.06-2.06.94zm10 10l.94 2.06.94-2.06 2.06-.94-2.06-.94-.94-2.06-.94 2.06-2.06.94z\"/><path d=\"M17.41 7.96l-1.37-1.37c-.4-.4-.92-.59-1.43-.59-.52 0-1.04.2-1.43.59L10.3 9.45l-7.72 7.72c-.78.78-.78 2.05 0 2.83L4 21.41c.39.39.9.59 1.41.59.51 0 1.02-.2 1.41-.59l7.78-7.78 2.81-2.81c.8-.78.8-2.07 0-2.86zM5.41 20L4 18.59l7.72-7.72 1.47 1.35L5.41 20z\"/>\n",
              "  </svg>\n",
              "      </button>\n",
              "      \n",
              "  <style>\n",
              "    .colab-df-container {\n",
              "      display:flex;\n",
              "      flex-wrap:wrap;\n",
              "      gap: 12px;\n",
              "    }\n",
              "\n",
              "    .colab-df-convert {\n",
              "      background-color: #E8F0FE;\n",
              "      border: none;\n",
              "      border-radius: 50%;\n",
              "      cursor: pointer;\n",
              "      display: none;\n",
              "      fill: #1967D2;\n",
              "      height: 32px;\n",
              "      padding: 0 0 0 0;\n",
              "      width: 32px;\n",
              "    }\n",
              "\n",
              "    .colab-df-convert:hover {\n",
              "      background-color: #E2EBFA;\n",
              "      box-shadow: 0px 1px 2px rgba(60, 64, 67, 0.3), 0px 1px 3px 1px rgba(60, 64, 67, 0.15);\n",
              "      fill: #174EA6;\n",
              "    }\n",
              "\n",
              "    [theme=dark] .colab-df-convert {\n",
              "      background-color: #3B4455;\n",
              "      fill: #D2E3FC;\n",
              "    }\n",
              "\n",
              "    [theme=dark] .colab-df-convert:hover {\n",
              "      background-color: #434B5C;\n",
              "      box-shadow: 0px 1px 3px 1px rgba(0, 0, 0, 0.15);\n",
              "      filter: drop-shadow(0px 1px 2px rgba(0, 0, 0, 0.3));\n",
              "      fill: #FFFFFF;\n",
              "    }\n",
              "  </style>\n",
              "\n",
              "      <script>\n",
              "        const buttonEl =\n",
              "          document.querySelector('#df-b468d847-b297-4816-829a-b06995042377 button.colab-df-convert');\n",
              "        buttonEl.style.display =\n",
              "          google.colab.kernel.accessAllowed ? 'block' : 'none';\n",
              "\n",
              "        async function convertToInteractive(key) {\n",
              "          const element = document.querySelector('#df-b468d847-b297-4816-829a-b06995042377');\n",
              "          const dataTable =\n",
              "            await google.colab.kernel.invokeFunction('convertToInteractive',\n",
              "                                                     [key], {});\n",
              "          if (!dataTable) return;\n",
              "\n",
              "          const docLinkHtml = 'Like what you see? Visit the ' +\n",
              "            '<a target=\"_blank\" href=https://colab.research.google.com/notebooks/data_table.ipynb>data table notebook</a>'\n",
              "            + ' to learn more about interactive tables.';\n",
              "          element.innerHTML = '';\n",
              "          dataTable['output_type'] = 'display_data';\n",
              "          await google.colab.output.renderOutput(dataTable, element);\n",
              "          const docLink = document.createElement('div');\n",
              "          docLink.innerHTML = docLinkHtml;\n",
              "          element.appendChild(docLink);\n",
              "        }\n",
              "      </script>\n",
              "    </div>\n",
              "  </div>\n",
              "  "
            ]
          },
          "metadata": {},
          "execution_count": 73
        }
      ]
    },
    {
      "cell_type": "code",
      "source": [
        "val_targets"
      ],
      "metadata": {
        "colab": {
          "base_uri": "https://localhost:8080/"
        },
        "id": "F1VmdjpDJNfk",
        "outputId": "1ffba5bc-0215-434a-b303-fab4a6d45470"
      },
      "execution_count": 74,
      "outputs": [
        {
          "output_type": "execute_result",
          "data": {
            "text/plain": [
              "120    1\n",
              "128    1\n",
              "271    1\n",
              "349    0\n",
              "272    0\n",
              "      ..\n",
              "190    1\n",
              "385    1\n",
              "130    1\n",
              "95     0\n",
              "175    1\n",
              "Name: Irrigation, Length: 100, dtype: int64"
            ]
          },
          "metadata": {},
          "execution_count": 74
        }
      ]
    },
    {
      "cell_type": "code",
      "source": [
        "#Training a Logistic Regression Model\n",
        "#To train a logistic regression model, we can use the LogisticRegression class from Scikit-learn.\n",
        "from sklearn.linear_model import LogisticRegression"
      ],
      "metadata": {
        "id": "dWT7w_9dJuRw"
      },
      "execution_count": 75,
      "outputs": []
    },
    {
      "cell_type": "code",
      "source": [
        "?LogisticRegression"
      ],
      "metadata": {
        "id": "anw0XvNoKNwn"
      },
      "execution_count": 76,
      "outputs": []
    },
    {
      "cell_type": "code",
      "source": [
        "model = LogisticRegression(solver='liblinear')"
      ],
      "metadata": {
        "id": "B6BzDcCDKT9o"
      },
      "execution_count": 77,
      "outputs": []
    },
    {
      "cell_type": "code",
      "source": [
        "# We can train the model using model.fit.\n",
        "model.fit(train_inputs[numeric_cols], train_targets)"
      ],
      "metadata": {
        "colab": {
          "base_uri": "https://localhost:8080/"
        },
        "id": "bDpyenemKcn-",
        "outputId": "cb52f095-be44-4b98-d220-4fac9b36709c"
      },
      "execution_count": 79,
      "outputs": [
        {
          "output_type": "execute_result",
          "data": {
            "text/plain": [
              "LogisticRegression(solver='liblinear')"
            ]
          },
          "metadata": {},
          "execution_count": 79
        }
      ]
    },
    {
      "cell_type": "code",
      "source": [
        "print(numeric_cols)"
      ],
      "metadata": {
        "colab": {
          "base_uri": "https://localhost:8080/"
        },
        "id": "Ax0Q04qVKrkF",
        "outputId": "35d20f3c-3689-4b95-c00e-869f37e0fe4d"
      },
      "execution_count": 80,
      "outputs": [
        {
          "output_type": "stream",
          "name": "stdout",
          "text": [
            "['temperature', 'humidity', 'ph', 'rainfall']\n"
          ]
        }
      ]
    },
    {
      "cell_type": "code",
      "source": [
        "print(model.coef_.tolist())"
      ],
      "metadata": {
        "colab": {
          "base_uri": "https://localhost:8080/"
        },
        "id": "deiQmMBGLlEJ",
        "outputId": "6cad8792-7be5-4653-f6e0-22d8356f9ec7"
      },
      "execution_count": 81,
      "outputs": [
        {
          "output_type": "stream",
          "name": "stdout",
          "text": [
            "[[-0.5060374416616021, -0.5161981824087298, 0.5016793413486245, -0.05122466672467837]]\n"
          ]
        }
      ]
    },
    {
      "cell_type": "code",
      "source": [
        "print(model.intercept_)"
      ],
      "metadata": {
        "colab": {
          "base_uri": "https://localhost:8080/"
        },
        "id": "cxmfGJkULzhS",
        "outputId": "b9033c02-d128-4c9d-d609-fc42d3ab8086"
      },
      "execution_count": 82,
      "outputs": [
        {
          "output_type": "stream",
          "name": "stdout",
          "text": [
            "[0.03075946]\n"
          ]
        }
      ]
    },
    {
      "cell_type": "code",
      "source": [
        "#Making Predictions and Evaluating the Model\n",
        "X_train = train_inputs[numeric_cols]\n",
        "X_val = val_inputs[numeric_cols]\n",
        "X_test = test_inputs[numeric_cols]"
      ],
      "metadata": {
        "id": "E-kJKquWL4iW"
      },
      "execution_count": 83,
      "outputs": []
    },
    {
      "cell_type": "code",
      "source": [
        "train_preds = model.predict(X_train)"
      ],
      "metadata": {
        "id": "2WCPyPg5McsZ"
      },
      "execution_count": 84,
      "outputs": []
    },
    {
      "cell_type": "code",
      "source": [
        "train_preds"
      ],
      "metadata": {
        "colab": {
          "base_uri": "https://localhost:8080/"
        },
        "id": "jZigE_8QMhQL",
        "outputId": "70746ee2-a99e-414c-fbf0-bb82a1e65cf2"
      },
      "execution_count": 85,
      "outputs": [
        {
          "output_type": "execute_result",
          "data": {
            "text/plain": [
              "array([0, 0, 0, 0, 0, 0, 0, 1, 1, 0, 0, 0, 0, 0, 0, 1, 0, 0, 0, 0, 0, 0,\n",
              "       0, 0, 0, 0, 0, 0, 0, 0, 0, 1, 0, 0, 0, 1, 0, 0, 0, 0, 1, 1, 0, 0,\n",
              "       0, 0, 0, 0, 0, 0, 0, 0, 0, 0, 1, 0, 1, 0, 0, 0, 0, 0, 0, 0, 0, 0,\n",
              "       0, 0, 0, 0, 0, 1, 0, 0, 0, 0, 0, 0, 0, 0, 0, 0, 0, 0, 0, 0, 0, 0,\n",
              "       1, 0, 0, 0, 0, 0, 0, 0, 0, 0, 0, 0, 0, 1, 0, 0, 0, 0, 0, 0, 0, 0,\n",
              "       0, 0, 0, 0, 0, 0, 0, 1, 0, 0, 0, 1, 0, 0, 0, 0, 0, 0, 0, 0, 0, 0,\n",
              "       0, 0, 0, 0, 0, 0, 0, 0, 0, 0, 1, 0, 0, 0, 0, 0, 0, 0, 0, 1, 1, 0,\n",
              "       0, 0, 0, 0, 0, 0, 0, 0, 0, 1, 0, 0, 0, 0, 0, 0, 0, 0, 0, 0, 0, 0,\n",
              "       0, 0, 0, 0, 0, 0, 0, 0, 0, 0, 0, 0, 1, 0, 0, 0, 0, 0, 0, 0, 0, 0,\n",
              "       1, 0, 0, 0, 0, 1, 0, 0, 0, 0, 0, 0, 0, 0, 0, 0, 0, 0, 0, 1, 0, 0,\n",
              "       0, 0, 0, 0, 1, 0, 0, 0, 0, 1, 0, 1, 0, 0, 1, 1, 0, 0, 0, 0, 1, 1,\n",
              "       0, 0, 0, 0, 0, 0, 0, 0, 0, 0, 0, 0, 0, 0, 0, 0, 0, 0, 0, 0, 0, 0,\n",
              "       0, 0, 0, 1, 0, 0, 0, 0, 0, 1, 0, 0, 0, 0, 0, 0, 0, 0, 0, 1, 0, 1,\n",
              "       0, 1, 0, 0, 1, 0, 0, 0, 0, 0, 0, 0, 0, 0])"
            ]
          },
          "metadata": {},
          "execution_count": 85
        }
      ]
    },
    {
      "cell_type": "code",
      "source": [
        "train_targets"
      ],
      "metadata": {
        "colab": {
          "base_uri": "https://localhost:8080/"
        },
        "id": "I81RHiQvMm1w",
        "outputId": "e8d643b8-a6f9-4cb7-d129-4f044e89b1f3"
      },
      "execution_count": 86,
      "outputs": [
        {
          "output_type": "execute_result",
          "data": {
            "text/plain": [
              "421    0\n",
              "250    0\n",
              "247    0\n",
              "26     1\n",
              "198    0\n",
              "      ..\n",
              "157    0\n",
              "228    0\n",
              "27     1\n",
              "480    0\n",
              "245    1\n",
              "Name: Irrigation, Length: 300, dtype: int64"
            ]
          },
          "metadata": {},
          "execution_count": 86
        }
      ]
    },
    {
      "cell_type": "code",
      "source": [
        "#We can output a probabilistic prediction using predict_proba.\n",
        "train_probs = model.predict_proba(X_train)\n",
        "train_probs"
      ],
      "metadata": {
        "colab": {
          "base_uri": "https://localhost:8080/"
        },
        "id": "20GZLF-9MzPV",
        "outputId": "a8e073ae-666f-4b51-9f78-d96228ceba20"
      },
      "execution_count": 87,
      "outputs": [
        {
          "output_type": "execute_result",
          "data": {
            "text/plain": [
              "array([[0.6253807 , 0.3746193 ],\n",
              "       [0.51235399, 0.48764601],\n",
              "       [0.57005684, 0.42994316],\n",
              "       [0.58822129, 0.41177871],\n",
              "       [0.511289  , 0.488711  ],\n",
              "       [0.62574358, 0.37425642],\n",
              "       [0.56257629, 0.43742371],\n",
              "       [0.48603843, 0.51396157],\n",
              "       [0.49562978, 0.50437022],\n",
              "       [0.66294431, 0.33705569],\n",
              "       [0.57393881, 0.42606119],\n",
              "       [0.64427263, 0.35572737],\n",
              "       [0.60790612, 0.39209388],\n",
              "       [0.60432704, 0.39567296],\n",
              "       [0.65064372, 0.34935628],\n",
              "       [0.49442339, 0.50557661],\n",
              "       [0.62849293, 0.37150707],\n",
              "       [0.57566144, 0.42433856],\n",
              "       [0.60012237, 0.39987763],\n",
              "       [0.63273274, 0.36726726],\n",
              "       [0.64504415, 0.35495585],\n",
              "       [0.66281786, 0.33718214],\n",
              "       [0.63564938, 0.36435062],\n",
              "       [0.64153357, 0.35846643],\n",
              "       [0.61418043, 0.38581957],\n",
              "       [0.65445922, 0.34554078],\n",
              "       [0.59281342, 0.40718658],\n",
              "       [0.65441399, 0.34558601],\n",
              "       [0.545244  , 0.454756  ],\n",
              "       [0.61686219, 0.38313781],\n",
              "       [0.59679084, 0.40320916],\n",
              "       [0.47629146, 0.52370854],\n",
              "       [0.54299295, 0.45700705],\n",
              "       [0.65014715, 0.34985285],\n",
              "       [0.57212995, 0.42787005],\n",
              "       [0.49317518, 0.50682482],\n",
              "       [0.64950407, 0.35049593],\n",
              "       [0.58122554, 0.41877446],\n",
              "       [0.65368935, 0.34631065],\n",
              "       [0.63877585, 0.36122415],\n",
              "       [0.48950857, 0.51049143],\n",
              "       [0.46044857, 0.53955143],\n",
              "       [0.59736257, 0.40263743],\n",
              "       [0.60985318, 0.39014682],\n",
              "       [0.63313428, 0.36686572],\n",
              "       [0.62175074, 0.37824926],\n",
              "       [0.59265806, 0.40734194],\n",
              "       [0.52152695, 0.47847305],\n",
              "       [0.57312834, 0.42687166],\n",
              "       [0.66002375, 0.33997625],\n",
              "       [0.63228382, 0.36771618],\n",
              "       [0.6147694 , 0.3852306 ],\n",
              "       [0.51563393, 0.48436607],\n",
              "       [0.59145396, 0.40854604],\n",
              "       [0.49618853, 0.50381147],\n",
              "       [0.63668692, 0.36331308],\n",
              "       [0.48807971, 0.51192029],\n",
              "       [0.50159811, 0.49840189],\n",
              "       [0.53494157, 0.46505843],\n",
              "       [0.62050812, 0.37949188],\n",
              "       [0.63265724, 0.36734276],\n",
              "       [0.50319368, 0.49680632],\n",
              "       [0.63651023, 0.36348977],\n",
              "       [0.60457048, 0.39542952],\n",
              "       [0.56002217, 0.43997783],\n",
              "       [0.54184876, 0.45815124],\n",
              "       [0.68516357, 0.31483643],\n",
              "       [0.58523576, 0.41476424],\n",
              "       [0.60955275, 0.39044725],\n",
              "       [0.51579871, 0.48420129],\n",
              "       [0.60309952, 0.39690048],\n",
              "       [0.49369111, 0.50630889],\n",
              "       [0.53000671, 0.46999329],\n",
              "       [0.50326244, 0.49673756],\n",
              "       [0.61142035, 0.38857965],\n",
              "       [0.64876225, 0.35123775],\n",
              "       [0.62062166, 0.37937834],\n",
              "       [0.66261518, 0.33738482],\n",
              "       [0.61963172, 0.38036828],\n",
              "       [0.53545868, 0.46454132],\n",
              "       [0.62164964, 0.37835036],\n",
              "       [0.64529634, 0.35470366],\n",
              "       [0.56279071, 0.43720929],\n",
              "       [0.60111645, 0.39888355],\n",
              "       [0.6106133 , 0.3893867 ],\n",
              "       [0.59035362, 0.40964638],\n",
              "       [0.60822939, 0.39177061],\n",
              "       [0.64754461, 0.35245539],\n",
              "       [0.47705946, 0.52294054],\n",
              "       [0.5008893 , 0.4991107 ],\n",
              "       [0.64941628, 0.35058372],\n",
              "       [0.60587727, 0.39412273],\n",
              "       [0.61072562, 0.38927438],\n",
              "       [0.64470648, 0.35529352],\n",
              "       [0.57841478, 0.42158522],\n",
              "       [0.59818849, 0.40181151],\n",
              "       [0.60577284, 0.39422716],\n",
              "       [0.57700566, 0.42299434],\n",
              "       [0.55796978, 0.44203022],\n",
              "       [0.62425773, 0.37574227],\n",
              "       [0.59928069, 0.40071931],\n",
              "       [0.475643  , 0.524357  ],\n",
              "       [0.64529053, 0.35470947],\n",
              "       [0.59383286, 0.40616714],\n",
              "       [0.56813943, 0.43186057],\n",
              "       [0.57900423, 0.42099577],\n",
              "       [0.6056545 , 0.3943455 ],\n",
              "       [0.59653298, 0.40346702],\n",
              "       [0.60653854, 0.39346146],\n",
              "       [0.60064429, 0.39935571],\n",
              "       [0.58585961, 0.41414039],\n",
              "       [0.65037258, 0.34962742],\n",
              "       [0.50452216, 0.49547784],\n",
              "       [0.59431543, 0.40568457],\n",
              "       [0.54248213, 0.45751787],\n",
              "       [0.54874238, 0.45125762],\n",
              "       [0.6238671 , 0.3761329 ],\n",
              "       [0.46923641, 0.53076359],\n",
              "       [0.64444765, 0.35555235],\n",
              "       [0.59875034, 0.40124966],\n",
              "       [0.60245239, 0.39754761],\n",
              "       [0.46960327, 0.53039673],\n",
              "       [0.59159228, 0.40840772],\n",
              "       [0.65277055, 0.34722945],\n",
              "       [0.52260918, 0.47739082],\n",
              "       [0.57710166, 0.42289834],\n",
              "       [0.61751104, 0.38248896],\n",
              "       [0.60923774, 0.39076226],\n",
              "       [0.54468451, 0.45531549],\n",
              "       [0.51982834, 0.48017166],\n",
              "       [0.64981033, 0.35018967],\n",
              "       [0.51211464, 0.48788536],\n",
              "       [0.64830882, 0.35169118],\n",
              "       [0.60878218, 0.39121782],\n",
              "       [0.64315683, 0.35684317],\n",
              "       [0.50292692, 0.49707308],\n",
              "       [0.54932587, 0.45067413],\n",
              "       [0.5296057 , 0.4703943 ],\n",
              "       [0.65456571, 0.34543429],\n",
              "       [0.58825111, 0.41174889],\n",
              "       [0.50486249, 0.49513751],\n",
              "       [0.61302617, 0.38697383],\n",
              "       [0.45665847, 0.54334153],\n",
              "       [0.60023138, 0.39976862],\n",
              "       [0.65636067, 0.34363933],\n",
              "       [0.63052745, 0.36947255],\n",
              "       [0.60051587, 0.39948413],\n",
              "       [0.56261225, 0.43738775],\n",
              "       [0.63134443, 0.36865557],\n",
              "       [0.57637935, 0.42362065],\n",
              "       [0.61371159, 0.38628841],\n",
              "       [0.47512227, 0.52487773],\n",
              "       [0.48997251, 0.51002749],\n",
              "       [0.66190231, 0.33809769],\n",
              "       [0.56613755, 0.43386245],\n",
              "       [0.65123955, 0.34876045],\n",
              "       [0.63004453, 0.36995547],\n",
              "       [0.5134403 , 0.4865597 ],\n",
              "       [0.58948481, 0.41051519],\n",
              "       [0.63581331, 0.36418669],\n",
              "       [0.58585469, 0.41414531],\n",
              "       [0.64755091, 0.35244909],\n",
              "       [0.58030072, 0.41969928],\n",
              "       [0.45788362, 0.54211638],\n",
              "       [0.51474525, 0.48525475],\n",
              "       [0.59771744, 0.40228256],\n",
              "       [0.54542444, 0.45457556],\n",
              "       [0.58209609, 0.41790391],\n",
              "       [0.59858555, 0.40141445],\n",
              "       [0.59190051, 0.40809949],\n",
              "       [0.50496514, 0.49503486],\n",
              "       [0.57713988, 0.42286012],\n",
              "       [0.53113356, 0.46886644],\n",
              "       [0.63186434, 0.36813566],\n",
              "       [0.54760081, 0.45239919],\n",
              "       [0.59050332, 0.40949668],\n",
              "       [0.50399654, 0.49600346],\n",
              "       [0.56975702, 0.43024298],\n",
              "       [0.61666862, 0.38333138],\n",
              "       [0.5599956 , 0.4400044 ],\n",
              "       [0.64389206, 0.35610794],\n",
              "       [0.65427186, 0.34572814],\n",
              "       [0.59384962, 0.40615038],\n",
              "       [0.57944983, 0.42055017],\n",
              "       [0.59678647, 0.40321353],\n",
              "       [0.64378679, 0.35621321],\n",
              "       [0.64061778, 0.35938222],\n",
              "       [0.57214744, 0.42785256],\n",
              "       [0.48007822, 0.51992178],\n",
              "       [0.63516985, 0.36483015],\n",
              "       [0.63220852, 0.36779148],\n",
              "       [0.59907316, 0.40092684],\n",
              "       [0.60899797, 0.39100203],\n",
              "       [0.64873373, 0.35126627],\n",
              "       [0.61504798, 0.38495202],\n",
              "       [0.58553987, 0.41446013],\n",
              "       [0.57338332, 0.42661668],\n",
              "       [0.61530166, 0.38469834],\n",
              "       [0.49363026, 0.50636974],\n",
              "       [0.54787872, 0.45212128],\n",
              "       [0.51625654, 0.48374346],\n",
              "       [0.64221623, 0.35778377],\n",
              "       [0.58674627, 0.41325373],\n",
              "       [0.49755544, 0.50244456],\n",
              "       [0.6403501 , 0.3596499 ],\n",
              "       [0.64498346, 0.35501654],\n",
              "       [0.57957079, 0.42042921],\n",
              "       [0.64610274, 0.35389726],\n",
              "       [0.61568251, 0.38431749],\n",
              "       [0.63777002, 0.36222998],\n",
              "       [0.59244059, 0.40755941],\n",
              "       [0.52844292, 0.47155708],\n",
              "       [0.5652251 , 0.4347749 ],\n",
              "       [0.57407851, 0.42592149],\n",
              "       [0.54718074, 0.45281926],\n",
              "       [0.62177059, 0.37822941],\n",
              "       [0.51630691, 0.48369309],\n",
              "       [0.46430785, 0.53569215],\n",
              "       [0.647805  , 0.352195  ],\n",
              "       [0.64097819, 0.35902181],\n",
              "       [0.58850995, 0.41149005],\n",
              "       [0.62030523, 0.37969477],\n",
              "       [0.63278011, 0.36721989],\n",
              "       [0.61591618, 0.38408382],\n",
              "       [0.4845777 , 0.5154223 ],\n",
              "       [0.58841119, 0.41158881],\n",
              "       [0.55575708, 0.44424292],\n",
              "       [0.60092879, 0.39907121],\n",
              "       [0.57742045, 0.42257955],\n",
              "       [0.47200918, 0.52799082],\n",
              "       [0.59982843, 0.40017157],\n",
              "       [0.4994983 , 0.5005017 ],\n",
              "       [0.64336639, 0.35663361],\n",
              "       [0.62393916, 0.37606084],\n",
              "       [0.48596737, 0.51403263],\n",
              "       [0.48881762, 0.51118238],\n",
              "       [0.60269356, 0.39730644],\n",
              "       [0.60503962, 0.39496038],\n",
              "       [0.6073324 , 0.3926676 ],\n",
              "       [0.66179174, 0.33820826],\n",
              "       [0.49850202, 0.50149798],\n",
              "       [0.49817959, 0.50182041],\n",
              "       [0.56943419, 0.43056581],\n",
              "       [0.65461221, 0.34538779],\n",
              "       [0.65412422, 0.34587578],\n",
              "       [0.56850455, 0.43149545],\n",
              "       [0.61806111, 0.38193889],\n",
              "       [0.5421704 , 0.4578296 ],\n",
              "       [0.53650919, 0.46349081],\n",
              "       [0.60414421, 0.39585579],\n",
              "       [0.63343594, 0.36656406],\n",
              "       [0.60028724, 0.39971276],\n",
              "       [0.56582988, 0.43417012],\n",
              "       [0.62357101, 0.37642899],\n",
              "       [0.5728423 , 0.4271577 ],\n",
              "       [0.53313681, 0.46686319],\n",
              "       [0.65286227, 0.34713773],\n",
              "       [0.6350998 , 0.3649002 ],\n",
              "       [0.60564723, 0.39435277],\n",
              "       [0.63681484, 0.36318516],\n",
              "       [0.66098876, 0.33901124],\n",
              "       [0.59834595, 0.40165405],\n",
              "       [0.56799638, 0.43200362],\n",
              "       [0.57705748, 0.42294252],\n",
              "       [0.65626899, 0.34373101],\n",
              "       [0.64577415, 0.35422585],\n",
              "       [0.60523526, 0.39476474],\n",
              "       [0.48466801, 0.51533199],\n",
              "       [0.61945625, 0.38054375],\n",
              "       [0.64705723, 0.35294277],\n",
              "       [0.65119693, 0.34880307],\n",
              "       [0.51157538, 0.48842462],\n",
              "       [0.55169928, 0.44830072],\n",
              "       [0.48095111, 0.51904889],\n",
              "       [0.60703556, 0.39296444],\n",
              "       [0.57440634, 0.42559366],\n",
              "       [0.61212896, 0.38787104],\n",
              "       [0.54920697, 0.45079303],\n",
              "       [0.57949922, 0.42050078],\n",
              "       [0.52312192, 0.47687808],\n",
              "       [0.58547051, 0.41452949],\n",
              "       [0.60347649, 0.39652351],\n",
              "       [0.51187121, 0.48812879],\n",
              "       [0.47530259, 0.52469741],\n",
              "       [0.56946162, 0.43053838],\n",
              "       [0.47387058, 0.52612942],\n",
              "       [0.64282371, 0.35717629],\n",
              "       [0.48958153, 0.51041847],\n",
              "       [0.60663159, 0.39336841],\n",
              "       [0.6555821 , 0.3444179 ],\n",
              "       [0.4703031 , 0.5296969 ],\n",
              "       [0.58756436, 0.41243564],\n",
              "       [0.51792748, 0.48207252],\n",
              "       [0.55540261, 0.44459739],\n",
              "       [0.64457497, 0.35542503],\n",
              "       [0.52281916, 0.47718084],\n",
              "       [0.61182287, 0.38817713],\n",
              "       [0.59475497, 0.40524503],\n",
              "       [0.59307828, 0.40692172],\n",
              "       [0.58505799, 0.41494201]])"
            ]
          },
          "metadata": {},
          "execution_count": 87
        }
      ]
    },
    {
      "cell_type": "code",
      "source": [
        "# The numbers above indicate the probabilities for the target classes \"0\" and \"1\".\n",
        "model.classes_"
      ],
      "metadata": {
        "colab": {
          "base_uri": "https://localhost:8080/"
        },
        "id": "olmV_6yBNDFc",
        "outputId": "28bbb259-ff6f-41b8-f249-3a7342286edd"
      },
      "execution_count": 88,
      "outputs": [
        {
          "output_type": "execute_result",
          "data": {
            "text/plain": [
              "array([0, 1])"
            ]
          },
          "metadata": {},
          "execution_count": 88
        }
      ]
    },
    {
      "cell_type": "code",
      "source": [
        "#We can test the accuracy of the model's predictions by computing the percentage of matching values in train_preds and train_targets.\n",
        "#This can be done using the accuracy_score function from sklearn.metrics.\n",
        "from sklearn.metrics import accuracy_score"
      ],
      "metadata": {
        "id": "Guzi-31uNV7p"
      },
      "execution_count": 89,
      "outputs": []
    },
    {
      "cell_type": "code",
      "source": [
        "accuracy_score(train_targets, train_preds)"
      ],
      "metadata": {
        "colab": {
          "base_uri": "https://localhost:8080/"
        },
        "id": "eLEUw5nkNnou",
        "outputId": "0c20c150-fd85-4d09-ea30-bac03dfd0f55"
      },
      "execution_count": 90,
      "outputs": [
        {
          "output_type": "execute_result",
          "data": {
            "text/plain": [
              "0.6066666666666667"
            ]
          },
          "metadata": {},
          "execution_count": 90
        }
      ]
    },
    {
      "cell_type": "code",
      "source": [
        "from sklearn.metrics import confusion_matrix"
      ],
      "metadata": {
        "id": "GUjuM5HgNyIh"
      },
      "execution_count": 91,
      "outputs": []
    },
    {
      "cell_type": "code",
      "source": [
        "confusion_matrix(train_targets, train_preds, normalize='true')"
      ],
      "metadata": {
        "colab": {
          "base_uri": "https://localhost:8080/"
        },
        "id": "_LOysoLuOBxZ",
        "outputId": "22b3ff27-6a46-4adb-d8d6-92441febf60d"
      },
      "execution_count": 92,
      "outputs": [
        {
          "output_type": "execute_result",
          "data": {
            "text/plain": [
              "array([[0.92 , 0.08 ],\n",
              "       [0.832, 0.168]])"
            ]
          },
          "metadata": {},
          "execution_count": 92
        }
      ]
    },
    {
      "cell_type": "code",
      "source": [
        "def predict_and_plot(inputs, targets, name=''):\n",
        "    preds = model.predict(inputs)\n",
        "    \n",
        "    accuracy = accuracy_score(targets, preds)\n",
        "    print(\"Accuracy: {:.2f}%\".format(accuracy * 100))\n",
        "    \n",
        "    cf = confusion_matrix(targets, preds, normalize='true')\n",
        "    plt.figure()\n",
        "    sns.heatmap(cf, annot=True)\n",
        "    plt.xlabel('Prediction')\n",
        "    plt.ylabel('Target')\n",
        "    plt.title('{} Confusion Matrix'.format(name));\n",
        "    \n",
        "    return preds"
      ],
      "metadata": {
        "id": "GYjYDPhROE8R"
      },
      "execution_count": 93,
      "outputs": []
    },
    {
      "cell_type": "code",
      "source": [
        "train_preds = predict_and_plot(X_train, train_targets, 'Training')"
      ],
      "metadata": {
        "colab": {
          "base_uri": "https://localhost:8080/",
          "height": 313
        },
        "id": "q-YuMW9SOda8",
        "outputId": "67b23f54-fef3-4a83-c609-8cf43456404c"
      },
      "execution_count": 94,
      "outputs": [
        {
          "output_type": "stream",
          "name": "stdout",
          "text": [
            "Accuracy: 60.67%\n"
          ]
        },
        {
          "output_type": "display_data",
          "data": {
            "text/plain": [
              "<Figure size 432x288 with 2 Axes>"
            ],
            "image/png": "[encoded data removed]"
          },
          "metadata": {}
        }
      ]
    },
    {
      "cell_type": "code",
      "source": [
        "#Let's compute the model's accuracy on the validation and test sets too.\n",
        "val_preds = predict_and_plot(X_val, val_targets, 'Validation')"
      ],
      "metadata": {
        "colab": {
          "base_uri": "https://localhost:8080/",
          "height": 313
        },
        "id": "n2NRQuy1OneQ",
        "outputId": "5600ba8b-ee7a-4ef9-c6fa-c2191a1d3224"
      },
      "execution_count": 96,
      "outputs": [
        {
          "output_type": "stream",
          "name": "stdout",
          "text": [
            "Accuracy: 64.00%\n"
          ]
        },
        {
          "output_type": "display_data",
          "data": {
            "text/plain": [
              "<Figure size 432x288 with 2 Axes>"
            ],
            "image/png": "[encoded data removed]"
          },
          "metadata": {}
        }
      ]
    },
    {
      "cell_type": "code",
      "source": [
        "test_preds = predict_and_plot(X_test, test_targets, 'Test')"
      ],
      "metadata": {
        "colab": {
          "base_uri": "https://localhost:8080/",
          "height": 313
        },
        "id": "turXl9yvO-Im",
        "outputId": "76db3dfe-bbaa-4e1a-bfdf-4dcd74328865"
      },
      "execution_count": 103,
      "outputs": [
        {
          "output_type": "stream",
          "name": "stdout",
          "text": [
            "Accuracy: 62.00%\n"
          ]
        },
        {
          "output_type": "display_data",
          "data": {
            "text/plain": [
              "<Figure size 432x288 with 2 Axes>"
            ],
            "image/png": "[encoded data removed]"
          },
          "metadata": {}
        }
      ]
    }
  ]
}